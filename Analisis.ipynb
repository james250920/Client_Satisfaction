{
 "cells": [
  {
   "cell_type": "markdown",
   "metadata": {},
   "source": [
    " Carga y Exploración de los Datos"
   ]
  },
  {
   "cell_type": "code",
   "execution_count": 19,
   "metadata": {
    "vscode": {
     "languageId": "r"
    }
   },
   "outputs": [
    {
     "name": "stderr",
     "output_type": "stream",
     "text": [
      "Warning message:\n",
      "\"packages 'caret', 'DataExplorer', 'VIM', 'missForest', 'ggplot2', 'lattice', 'colorspace', 'data.table', 'randomForest', 'foreach', 'itertools', 'MASS', 'pROC', 'foreign', 'gmodels', 'caTools', 'dplyr', 'iterators', 'tidyverse', 'kableExtra', 'scales', 'Boruta', 'factoextra', 'mvoutlier', 'outliers', 'cluster', 'fpc', 'mclust', 'dbscan', 'readxl', 'psych', 'corrplot', 'mclust', 'gclus', 'rrcov', 'tourr', 'aplpack', 'rgl', 'ape', 'GGally', 'Hmisc', 'e1071', 'class', 'sqldf' are in use and will not be installed\"\n",
      "Installing package into 'C:/Users/james/AppData/Local/R/win-library/4.4'\n",
      "(as 'lib' is unspecified)\n",
      "\n"
     ]
    },
    {
     "name": "stdout",
     "output_type": "stream",
     "text": [
      "package 'TeachingDemos' successfully unpacked and MD5 sums checked\n",
      "\n",
      "The downloaded binary packages are in\n",
      "\tC:\\Users\\james\\AppData\\Local\\Temp\\RtmpqwkEI4\\downloaded_packages\n"
     ]
    }
   ],
   "source": [
    "install.packages(c(\"caret\",\n",
    "                   \"DataExplorer\",\n",
    "                   \"VIM\",\n",
    "                   \"missForest\",\n",
    "                   \"ggplot2\",\n",
    "                   \"lattice\",\n",
    "                   \"colorspace\",\n",
    "                   \"data.table\",\n",
    "                   \"randomForest\",\n",
    "                   \"foreach\",\n",
    "                   \"itertools\",\n",
    "                   \"MASS\",\n",
    "                   \"pROC\",\n",
    "                   \"foreign\",\n",
    "                   \"gmodels\",\n",
    "                   \"caTools\",\n",
    "                   \"dplyr\",\n",
    "                   \"iterators\",\n",
    "                   \"tidyverse\",\n",
    "                   \"kableExtra\",\n",
    "                   \"scales\",\n",
    "                   \"Boruta\",\n",
    "                   \"factoextra\",\n",
    "                   \"mvoutlier\",\n",
    "                   \"outliers\",\n",
    "                   \"cluster\",\n",
    "                   \"fpc\",\n",
    "                   \"mclust\",\n",
    "                   \"dbscan\",\n",
    "                   \"readxl\",\n",
    "                   \"psych\",\n",
    "                   \"corrplot\",\n",
    "                   \"mclust\",\n",
    "                   \"gclus\", \n",
    "                   \"rrcov\",\n",
    "                   \"tourr\",\n",
    "                   \"aplpack\",\n",
    "                   \"TeachingDemos\",\n",
    "                   \"rgl\",\n",
    "                   \"ape\",\n",
    "                   \"GGally\",\n",
    "                   \"Hmisc\",\n",
    "                   \"e1071\",\n",
    "                   \"class\",\n",
    "                   \"sqldf\"),dependencies = T)"
   ]
  },
  {
   "cell_type": "markdown",
   "metadata": {},
   "source": [
    "Librerias"
   ]
  },
  {
   "cell_type": "code",
   "execution_count": 20,
   "metadata": {
    "vscode": {
     "languageId": "r"
    }
   },
   "outputs": [],
   "source": [
    "library(ggplot2)\n",
    "library(caret)\n",
    "library(DataExplorer)\n",
    "library(VIM)\n",
    "library(missForest)\n",
    "library(ggplot2)\n",
    "library(lattice)\n",
    "library(colorspace)\n",
    "library(data.table)\n",
    "library(randomForest)\n",
    "library(foreach)\n",
    "library(itertools)\n",
    "library(MASS) \n",
    "library(pROC)\n",
    "library(foreign)\n",
    "library(gmodels)\n",
    "library(caTools)\n",
    "library(dplyr)\n",
    "library(tidyverse)\n",
    "library(kableExtra)\n",
    "library(scales)\n",
    "library(Boruta)\n",
    "library(factoextra)\n",
    "library(mvoutlier)\n",
    "library(outliers)\n",
    "library(cluster)\n",
    "library(fpc)\n",
    "library(mclust)\n",
    "library(dbscan)\n",
    "library(readxl)\n",
    "library(psych)\n",
    "library(corrplot)\n",
    "library(mclust)\n",
    "library(gclus) \n",
    "library(rrcov)\n",
    "library(tourr)\n",
    "library(aplpack)\n",
    "library(rgl)\n",
    "library(ape)\n",
    "library(GGally)\n",
    "library(Hmisc)\n",
    "library(e1071)  \n",
    "library(class)  \n",
    "library(sqldf)"
   ]
  },
  {
   "cell_type": "code",
   "execution_count": 21,
   "metadata": {
    "vscode": {
     "languageId": "r"
    }
   },
   "outputs": [
    {
     "data": {
      "text/html": [
       "'C:/Users/james/OneDrive/Escritorio/AD/casoTrabajoIntegrador'"
      ],
      "text/latex": [
       "'C:/Users/james/OneDrive/Escritorio/AD/casoTrabajoIntegrador'"
      ],
      "text/markdown": [
       "'C:/Users/james/OneDrive/Escritorio/AD/casoTrabajoIntegrador'"
      ],
      "text/plain": [
       "[1] \"C:/Users/james/OneDrive/Escritorio/AD/casoTrabajoIntegrador\""
      ]
     },
     "metadata": {},
     "output_type": "display_data"
    }
   ],
   "source": [
    "setwd(\"C:/Users/james/OneDrive/Escritorio/AD/casoTrabajoIntegrador/\") #Fija el directorio de trabajo\n",
    "getwd() # Ver el directorio de trabajo"
   ]
  },
  {
   "cell_type": "code",
   "execution_count": 22,
   "metadata": {
    "vscode": {
     "languageId": "r"
    }
   },
   "outputs": [],
   "source": [
    "#Lectura de datos\n",
    "library(foreign)"
   ]
  },
  {
   "cell_type": "code",
   "execution_count": 23,
   "metadata": {
    "vscode": {
     "languageId": "r"
    }
   },
   "outputs": [
    {
     "data": {
      "text/html": [
       "<style>\n",
       ".list-inline {list-style: none; margin:0; padding: 0}\n",
       ".list-inline>li {display: inline-block}\n",
       ".list-inline>li:not(:last-child)::after {content: \"\\00b7\"; padding: 0 .5ex}\n",
       "</style>\n",
       "<ol class=list-inline><li>4231</li><li>20</li></ol>\n"
      ],
      "text/latex": [
       "\\begin{enumerate*}\n",
       "\\item 4231\n",
       "\\item 20\n",
       "\\end{enumerate*}\n"
      ],
      "text/markdown": [
       "1. 4231\n",
       "2. 20\n",
       "\n",
       "\n"
      ],
      "text/plain": [
       "[1] 4231   20"
      ]
     },
     "metadata": {},
     "output_type": "display_data"
    },
    {
     "name": "stdout",
     "output_type": "stream",
     "text": [
      "Rows: 4,231\n",
      "Columns: 20\n",
      "$ enc   \u001b[3m\u001b[90m<dbl>\u001b[39m\u001b[23m 1, 2, 3, 4, 5, 6, 7, 8, 9, 10, 11, 12, 13, 14, 15, 16, 17, 18, 1…\n",
      "$ p5_1  \u001b[3m\u001b[90m<dbl>\u001b[39m\u001b[23m 9, 10, 10, 10, 10, 10, 10, 9, 10, 10, 5, 10, 8, 10, 8, 8, 9, 7, …\n",
      "$ p5_2  \u001b[3m\u001b[90m<dbl>\u001b[39m\u001b[23m 8, 10, 10, 10, 10, 10, 9, 9, 10, 10, 8, 10, 8, 10, 8, 8, 9, 7, 1…\n",
      "$ p5_3  \u001b[3m\u001b[90m<dbl>\u001b[39m\u001b[23m 8, 10, 10, 10, 10, 10, 7, 9, 10, 10, 8, 10, 8, 10, 8, 8, 9, 7, 1…\n",
      "$ p5_4  \u001b[3m\u001b[90m<dbl>\u001b[39m\u001b[23m 9, 10, 10, 10, 10, 10, 8, 9, 10, 9, 9, 10, 8, 10, 8, 8, 9, 7, 9,…\n",
      "$ p5_5  \u001b[3m\u001b[90m<dbl>\u001b[39m\u001b[23m 9, 10, 10, 5, 10, 6, 5, 9, 8, 7, 9, 6, 8, 10, 8, 8, 8, 8, 10, 10…\n",
      "$ p5_6  \u001b[3m\u001b[90m<dbl>\u001b[39m\u001b[23m 9, 10, 10, 10, 9, 10, 6, 10, 9, 10, 9, 9, 8, 9, 8, 8, 9, 8, 10, …\n",
      "$ p5_7  \u001b[3m\u001b[90m<dbl>\u001b[39m\u001b[23m 8, 10, 10, 10, 10, 10, 6, 10, 8, 10, 9, 10, 8, 9, 8, 8, 9, 8, 10…\n",
      "$ p5_8  \u001b[3m\u001b[90m<dbl>\u001b[39m\u001b[23m 7, 10, 10, 10, 10, 10, 10, 10, 10, 10, 9, 10, 8, 10, 9, 8, 9, 8,…\n",
      "$ p5_9  \u001b[3m\u001b[90m<dbl>\u001b[39m\u001b[23m 8, 10, 10, 10, 10, 10, 10, 10, 10, 10, 9, 10, 8, 10, 9, 8, 9, 8,…\n",
      "$ p5_10 \u001b[3m\u001b[90m<dbl>\u001b[39m\u001b[23m 7, 10, 10, 10, 9, 10, 10, 10, 9, 10, 9, 10, 8, 10, 8, 8, 8, 8, 9…\n",
      "$ p5_11 \u001b[3m\u001b[90m<dbl>\u001b[39m\u001b[23m 7, 10, 10, 10, 9, 10, 10, 10, 9, 10, 9, 10, 8, 10, 8, 7, 8, 8, 9…\n",
      "$ p7_1  \u001b[3m\u001b[90m<dbl>\u001b[39m\u001b[23m 10, 9, 10, 8, 10, 10, 9, 10, 9, 9, 8, 10, 9, 9, 9, 8, 10, 8, 10,…\n",
      "$ p7_2  \u001b[3m\u001b[90m<dbl>\u001b[39m\u001b[23m 10, 10, 10, 10, 10, 10, 9, 10, 9, 9, 9, 10, 9, 10, 9, 8, 10, 8, …\n",
      "$ p7_3  \u001b[3m\u001b[90m<dbl>\u001b[39m\u001b[23m 10, 10, 10, 10, 10, 10, 9, 10, 9, 9, 9, 10, 9, 10, 9, 9, 10, 8, …\n",
      "$ p7_4  \u001b[3m\u001b[90m<dbl>\u001b[39m\u001b[23m 9, 10, 10, 10, 10, 10, 9, 10, 9, 9, 9, 10, 9, 10, 9, 9, 10, 8, 1…\n",
      "$ p7_5  \u001b[3m\u001b[90m<dbl>\u001b[39m\u001b[23m 10, 10, 10, 10, 10, 10, 7, 10, 9, 9, 9, 10, 8, 9, 9, 8, 10, 7, 1…\n",
      "$ p7_6  \u001b[3m\u001b[90m<dbl>\u001b[39m\u001b[23m 10, 10, 10, 10, 10, 10, 7, 10, 9, 10, 9, 8, 8, 10, 9, 8, 9, 7, 1…\n",
      "$ p7_7  \u001b[3m\u001b[90m<dbl>\u001b[39m\u001b[23m 10, 10, 10, 10, 10, 10, 7, 10, 9, 10, 9, 9, 9, 10, 9, 9, 10, 8, …\n",
      "$ p8    \u001b[3m\u001b[90m<dbl>\u001b[39m\u001b[23m 8, 10, 10, 10, 10, 10, 9, 10, 10, 10, 7, 10, 9, 10, 10, 10, 9, 8…\n"
     ]
    }
   ],
   "source": [
    "datos <-read.spss(\"data/CASO2.sav\",\n",
    "                  use.value.labels=TRUE, \n",
    "                  to.data.frame=TRUE) %>% data.frame()\n",
    "# Viendo la estructura de los datos\n",
    "dim(datos) #Muestra la dimensi?n de los datos\n",
    "glimpse(datos)"
   ]
  },
  {
   "cell_type": "markdown",
   "metadata": {},
   "source": [
    "$$ANÁLISIS\\\\ EXPLORATORIO \\\\DE\\\\ DATOS $$"
   ]
  },
  {
   "cell_type": "markdown",
   "metadata": {},
   "source": [
    "ANALISIS DE DATOS PERDIDODS"
   ]
  },
  {
   "cell_type": "code",
   "execution_count": 24,
   "metadata": {
    "vscode": {
     "languageId": "r"
    }
   },
   "outputs": [
    {
     "data": {
      "image/png": "[encoded data removed]",
      "text/plain": [
       "plot without title"
      ]
     },
     "metadata": {
      "image/png": {
       "height": 420,
       "width": 420
      }
     },
     "output_type": "display_data"
    }
   ],
   "source": [
    "# Ver la cantidad de datos perdidos\n",
    "library(DataExplorer)\n",
    "plot_missing(datos)"
   ]
  },
  {
   "cell_type": "code",
   "execution_count": 27,
   "metadata": {
    "vscode": {
     "languageId": "r"
    }
   },
   "outputs": [
    {
     "data": {
      "image/png": "[encoded data removed]",
      "text/plain": [
       "plot without title"
      ]
     },
     "metadata": {
      "image/png": {
       "height": 420,
       "width": 420
      }
     },
     "output_type": "display_data"
    },
    {
     "data": {
      "image/png": "[encoded data removed]",
      "text/plain": [
       "plot without title"
      ]
     },
     "metadata": {
      "image/png": {
       "height": 420,
       "width": 420
      }
     },
     "output_type": "display_data"
    }
   ],
   "source": [
    "#ver tabla de distribuciones\n",
    "plot_histogram(datos)"
   ]
  },
  {
   "cell_type": "code",
   "execution_count": 28,
   "metadata": {
    "vscode": {
     "languageId": "r"
    }
   },
   "outputs": [
    {
     "data": {
      "text/html": [
       "<table class=\"dataframe\">\n",
       "<caption>A data.frame: 4231 × 20</caption>\n",
       "<thead>\n",
       "\t<tr><th scope=col>enc</th><th scope=col>p5_1</th><th scope=col>p5_2</th><th scope=col>p5_3</th><th scope=col>p5_4</th><th scope=col>p5_5</th><th scope=col>p5_6</th><th scope=col>p5_7</th><th scope=col>p5_8</th><th scope=col>p5_9</th><th scope=col>p5_10</th><th scope=col>p5_11</th><th scope=col>p7_1</th><th scope=col>p7_2</th><th scope=col>p7_3</th><th scope=col>p7_4</th><th scope=col>p7_5</th><th scope=col>p7_6</th><th scope=col>p7_7</th><th scope=col>p8</th></tr>\n",
       "\t<tr><th scope=col>&lt;dbl&gt;</th><th scope=col>&lt;dbl&gt;</th><th scope=col>&lt;dbl&gt;</th><th scope=col>&lt;dbl&gt;</th><th scope=col>&lt;dbl&gt;</th><th scope=col>&lt;dbl&gt;</th><th scope=col>&lt;dbl&gt;</th><th scope=col>&lt;dbl&gt;</th><th scope=col>&lt;dbl&gt;</th><th scope=col>&lt;dbl&gt;</th><th scope=col>&lt;dbl&gt;</th><th scope=col>&lt;dbl&gt;</th><th scope=col>&lt;dbl&gt;</th><th scope=col>&lt;dbl&gt;</th><th scope=col>&lt;dbl&gt;</th><th scope=col>&lt;dbl&gt;</th><th scope=col>&lt;dbl&gt;</th><th scope=col>&lt;dbl&gt;</th><th scope=col>&lt;dbl&gt;</th><th scope=col>&lt;dbl&gt;</th></tr>\n",
       "</thead>\n",
       "<tbody>\n",
       "\t<tr><td> 1</td><td> 9</td><td> 8</td><td> 8</td><td> 9</td><td> 9</td><td> 9</td><td> 8</td><td> 7</td><td> 8</td><td> 7</td><td> 7</td><td>10</td><td>10</td><td>10</td><td> 9</td><td>10</td><td>10</td><td>10</td><td> 8</td></tr>\n",
       "\t<tr><td> 2</td><td>10</td><td>10</td><td>10</td><td>10</td><td>10</td><td>10</td><td>10</td><td>10</td><td>10</td><td>10</td><td>10</td><td> 9</td><td>10</td><td>10</td><td>10</td><td>10</td><td>10</td><td>10</td><td>10</td></tr>\n",
       "\t<tr><td> 3</td><td>10</td><td>10</td><td>10</td><td>10</td><td>10</td><td>10</td><td>10</td><td>10</td><td>10</td><td>10</td><td>10</td><td>10</td><td>10</td><td>10</td><td>10</td><td>10</td><td>10</td><td>10</td><td>10</td></tr>\n",
       "\t<tr><td> 4</td><td>10</td><td>10</td><td>10</td><td>10</td><td> 5</td><td>10</td><td>10</td><td>10</td><td>10</td><td>10</td><td>10</td><td> 8</td><td>10</td><td>10</td><td>10</td><td>10</td><td>10</td><td>10</td><td>10</td></tr>\n",
       "\t<tr><td> 5</td><td>10</td><td>10</td><td>10</td><td>10</td><td>10</td><td> 9</td><td>10</td><td>10</td><td>10</td><td> 9</td><td> 9</td><td>10</td><td>10</td><td>10</td><td>10</td><td>10</td><td>10</td><td>10</td><td>10</td></tr>\n",
       "\t<tr><td> 6</td><td>10</td><td>10</td><td>10</td><td>10</td><td> 6</td><td>10</td><td>10</td><td>10</td><td>10</td><td>10</td><td>10</td><td>10</td><td>10</td><td>10</td><td>10</td><td>10</td><td>10</td><td>10</td><td>10</td></tr>\n",
       "\t<tr><td> 7</td><td>10</td><td> 9</td><td> 7</td><td> 8</td><td> 5</td><td> 6</td><td> 6</td><td>10</td><td>10</td><td>10</td><td>10</td><td> 9</td><td> 9</td><td> 9</td><td> 9</td><td> 7</td><td> 7</td><td> 7</td><td> 9</td></tr>\n",
       "\t<tr><td> 8</td><td> 9</td><td> 9</td><td> 9</td><td> 9</td><td> 9</td><td>10</td><td>10</td><td>10</td><td>10</td><td>10</td><td>10</td><td>10</td><td>10</td><td>10</td><td>10</td><td>10</td><td>10</td><td>10</td><td>10</td></tr>\n",
       "\t<tr><td> 9</td><td>10</td><td>10</td><td>10</td><td>10</td><td> 8</td><td> 9</td><td> 8</td><td>10</td><td>10</td><td> 9</td><td> 9</td><td> 9</td><td> 9</td><td> 9</td><td> 9</td><td> 9</td><td> 9</td><td> 9</td><td>10</td></tr>\n",
       "\t<tr><td>10</td><td>10</td><td>10</td><td>10</td><td> 9</td><td> 7</td><td>10</td><td>10</td><td>10</td><td>10</td><td>10</td><td>10</td><td> 9</td><td> 9</td><td> 9</td><td> 9</td><td> 9</td><td>10</td><td>10</td><td>10</td></tr>\n",
       "\t<tr><td>11</td><td> 5</td><td> 8</td><td> 8</td><td> 9</td><td> 9</td><td> 9</td><td> 9</td><td> 9</td><td> 9</td><td> 9</td><td> 9</td><td> 8</td><td> 9</td><td> 9</td><td> 9</td><td> 9</td><td> 9</td><td> 9</td><td> 7</td></tr>\n",
       "\t<tr><td>12</td><td>10</td><td>10</td><td>10</td><td>10</td><td> 6</td><td> 9</td><td>10</td><td>10</td><td>10</td><td>10</td><td>10</td><td>10</td><td>10</td><td>10</td><td>10</td><td>10</td><td> 8</td><td> 9</td><td>10</td></tr>\n",
       "\t<tr><td>13</td><td> 8</td><td> 8</td><td> 8</td><td> 8</td><td> 8</td><td> 8</td><td> 8</td><td> 8</td><td> 8</td><td> 8</td><td> 8</td><td> 9</td><td> 9</td><td> 9</td><td> 9</td><td> 8</td><td> 8</td><td> 9</td><td> 9</td></tr>\n",
       "\t<tr><td>14</td><td>10</td><td>10</td><td>10</td><td>10</td><td>10</td><td> 9</td><td> 9</td><td>10</td><td>10</td><td>10</td><td>10</td><td> 9</td><td>10</td><td>10</td><td>10</td><td> 9</td><td>10</td><td>10</td><td>10</td></tr>\n",
       "\t<tr><td>15</td><td> 8</td><td> 8</td><td> 8</td><td> 8</td><td> 8</td><td> 8</td><td> 8</td><td> 9</td><td> 9</td><td> 8</td><td> 8</td><td> 9</td><td> 9</td><td> 9</td><td> 9</td><td> 9</td><td> 9</td><td> 9</td><td>10</td></tr>\n",
       "\t<tr><td>16</td><td> 8</td><td> 8</td><td> 8</td><td> 8</td><td> 8</td><td> 8</td><td> 8</td><td> 8</td><td> 8</td><td> 8</td><td> 7</td><td> 8</td><td> 8</td><td> 9</td><td> 9</td><td> 8</td><td> 8</td><td> 9</td><td>10</td></tr>\n",
       "\t<tr><td>17</td><td> 9</td><td> 9</td><td> 9</td><td> 9</td><td> 8</td><td> 9</td><td> 9</td><td> 9</td><td> 9</td><td> 8</td><td> 8</td><td>10</td><td>10</td><td>10</td><td>10</td><td>10</td><td> 9</td><td>10</td><td> 9</td></tr>\n",
       "\t<tr><td>18</td><td> 7</td><td> 7</td><td> 7</td><td> 7</td><td> 8</td><td> 8</td><td> 8</td><td> 8</td><td> 8</td><td> 8</td><td> 8</td><td> 8</td><td> 8</td><td> 8</td><td> 8</td><td> 7</td><td> 7</td><td> 8</td><td> 8</td></tr>\n",
       "\t<tr><td>19</td><td>10</td><td>10</td><td>10</td><td> 9</td><td>10</td><td>10</td><td>10</td><td> 9</td><td> 9</td><td> 9</td><td> 9</td><td>10</td><td>10</td><td>10</td><td>10</td><td>10</td><td>10</td><td>10</td><td>10</td></tr>\n",
       "\t<tr><td>20</td><td>10</td><td>10</td><td>10</td><td>10</td><td>10</td><td> 8</td><td>10</td><td>10</td><td>10</td><td>10</td><td>10</td><td> 9</td><td> 9</td><td>10</td><td>10</td><td>10</td><td>10</td><td>10</td><td>10</td></tr>\n",
       "\t<tr><td>21</td><td> 9</td><td> 9</td><td> 9</td><td> 9</td><td> 9</td><td> 9</td><td> 9</td><td> 9</td><td> 9</td><td> 9</td><td> 9</td><td> 9</td><td> 8</td><td> 8</td><td> 8</td><td> 9</td><td> 9</td><td> 9</td><td> 9</td></tr>\n",
       "\t<tr><td>22</td><td> 9</td><td> 9</td><td> 8</td><td> 8</td><td> 8</td><td> 8</td><td> 8</td><td> 7</td><td> 7</td><td> 8</td><td> 8</td><td> 9</td><td>10</td><td>10</td><td> 8</td><td> 8</td><td> 8</td><td> 9</td><td> 9</td></tr>\n",
       "\t<tr><td>23</td><td>10</td><td>10</td><td>10</td><td>10</td><td> 9</td><td> 9</td><td> 9</td><td> 9</td><td> 9</td><td>10</td><td>10</td><td> 8</td><td>10</td><td>10</td><td> 9</td><td> 9</td><td> 9</td><td>10</td><td> 9</td></tr>\n",
       "\t<tr><td>24</td><td> 8</td><td> 8</td><td> 8</td><td> 8</td><td> 8</td><td> 8</td><td> 8</td><td> 8</td><td> 8</td><td> 8</td><td> 8</td><td> 8</td><td> 8</td><td> 8</td><td> 8</td><td> 8</td><td> 8</td><td> 8</td><td> 8</td></tr>\n",
       "\t<tr><td>25</td><td> 9</td><td> 9</td><td> 9</td><td> 9</td><td> 1</td><td> 9</td><td> 9</td><td> 9</td><td> 9</td><td> 9</td><td> 9</td><td> 8</td><td> 9</td><td> 9</td><td> 9</td><td> 9</td><td> 9</td><td> 9</td><td> 8</td></tr>\n",
       "\t<tr><td>26</td><td> 9</td><td> 9</td><td>10</td><td>10</td><td>10</td><td>10</td><td>10</td><td>10</td><td>10</td><td>10</td><td>10</td><td> 8</td><td> 9</td><td> 9</td><td>10</td><td> 9</td><td>10</td><td> 9</td><td> 9</td></tr>\n",
       "\t<tr><td>27</td><td>10</td><td>10</td><td>10</td><td>10</td><td>10</td><td>10</td><td>10</td><td>10</td><td>10</td><td>10</td><td>10</td><td> 9</td><td>10</td><td>10</td><td>10</td><td> 9</td><td> 9</td><td>10</td><td>10</td></tr>\n",
       "\t<tr><td>28</td><td>10</td><td>10</td><td>10</td><td>10</td><td>10</td><td>10</td><td>10</td><td>10</td><td>10</td><td>10</td><td>10</td><td>10</td><td>10</td><td>10</td><td>10</td><td>10</td><td>10</td><td>10</td><td>10</td></tr>\n",
       "\t<tr><td>29</td><td> 9</td><td> 9</td><td> 9</td><td> 9</td><td> 9</td><td> 9</td><td> 9</td><td> 9</td><td> 9</td><td> 9</td><td> 9</td><td> 9</td><td> 9</td><td> 9</td><td> 9</td><td> 9</td><td> 9</td><td> 9</td><td>10</td></tr>\n",
       "\t<tr><td>30</td><td>10</td><td>10</td><td>10</td><td>10</td><td>10</td><td>10</td><td>10</td><td>10</td><td>10</td><td>10</td><td>10</td><td>10</td><td>10</td><td>10</td><td>10</td><td>10</td><td>10</td><td>10</td><td>10</td></tr>\n",
       "\t<tr><td>⋮</td><td>⋮</td><td>⋮</td><td>⋮</td><td>⋮</td><td>⋮</td><td>⋮</td><td>⋮</td><td>⋮</td><td>⋮</td><td>⋮</td><td>⋮</td><td>⋮</td><td>⋮</td><td>⋮</td><td>⋮</td><td>⋮</td><td>⋮</td><td>⋮</td><td>⋮</td></tr>\n",
       "\t<tr><td>9632</td><td> 6</td><td> 5</td><td> 6</td><td> 6</td><td> 6</td><td> 6</td><td> 7</td><td> 7</td><td> 6</td><td> 6</td><td> 6</td><td> 7</td><td> 7</td><td> 7</td><td> 7</td><td> 7</td><td> 7</td><td> 7</td><td> 8</td></tr>\n",
       "\t<tr><td>9633</td><td> 9</td><td> 9</td><td> 9</td><td> 9</td><td> 9</td><td> 9</td><td> 9</td><td> 9</td><td> 9</td><td> 9</td><td> 9</td><td> 8</td><td> 8</td><td> 8</td><td> 8</td><td> 8</td><td> 8</td><td> 8</td><td>10</td></tr>\n",
       "\t<tr><td>9634</td><td> 8</td><td> 8</td><td> 9</td><td> 8</td><td> 8</td><td> 8</td><td> 8</td><td> 8</td><td> 9</td><td> 8</td><td> 8</td><td> 9</td><td> 9</td><td> 9</td><td> 9</td><td> 9</td><td> 9</td><td> 9</td><td> 9</td></tr>\n",
       "\t<tr><td>9635</td><td> 9</td><td> 9</td><td> 9</td><td> 9</td><td> 8</td><td> 8</td><td> 9</td><td> 9</td><td> 9</td><td> 9</td><td> 9</td><td> 8</td><td> 8</td><td> 8</td><td> 8</td><td> 8</td><td> 8</td><td> 8</td><td> 9</td></tr>\n",
       "\t<tr><td>9636</td><td> 9</td><td> 8</td><td> 8</td><td> 9</td><td> 9</td><td> 8</td><td> 8</td><td> 9</td><td> 9</td><td> 9</td><td> 9</td><td> 9</td><td> 9</td><td> 9</td><td> 9</td><td> 9</td><td> 9</td><td> 9</td><td> 8</td></tr>\n",
       "\t<tr><td>9637</td><td> 8</td><td> 7</td><td> 7</td><td> 7</td><td> 8</td><td> 8</td><td> 8</td><td> 8</td><td> 7</td><td> 8</td><td> 8</td><td> 8</td><td> 8</td><td> 8</td><td> 8</td><td> 8</td><td> 8</td><td> 8</td><td> 8</td></tr>\n",
       "\t<tr><td>9638</td><td> 9</td><td> 8</td><td> 9</td><td> 9</td><td> 9</td><td> 8</td><td> 8</td><td> 9</td><td> 9</td><td> 9</td><td> 9</td><td> 9</td><td> 8</td><td> 9</td><td> 9</td><td> 9</td><td> 9</td><td> 9</td><td> 9</td></tr>\n",
       "\t<tr><td>9639</td><td> 8</td><td> 7</td><td> 8</td><td> 7</td><td> 9</td><td> 9</td><td> 9</td><td> 8</td><td> 8</td><td> 8</td><td> 8</td><td> 9</td><td> 9</td><td> 8</td><td> 9</td><td> 8</td><td> 8</td><td> 8</td><td> 8</td></tr>\n",
       "\t<tr><td>9640</td><td> 9</td><td> 8</td><td> 9</td><td> 8</td><td> 9</td><td> 9</td><td> 9</td><td> 8</td><td> 8</td><td> 8</td><td> 8</td><td> 9</td><td> 8</td><td> 9</td><td> 8</td><td> 9</td><td> 8</td><td> 8</td><td> 8</td></tr>\n",
       "\t<tr><td>9641</td><td> 9</td><td> 8</td><td> 9</td><td> 8</td><td> 9</td><td> 9</td><td> 9</td><td> 9</td><td> 9</td><td> 9</td><td> 9</td><td> 9</td><td> 9</td><td> 8</td><td> 8</td><td> 9</td><td> 8</td><td> 8</td><td> 8</td></tr>\n",
       "\t<tr><td>9642</td><td> 9</td><td> 8</td><td> 9</td><td> 9</td><td> 8</td><td> 8</td><td> 8</td><td> 8</td><td> 8</td><td> 8</td><td> 8</td><td> 8</td><td> 8</td><td> 9</td><td> 8</td><td> 9</td><td> 8</td><td> 9</td><td> 9</td></tr>\n",
       "\t<tr><td>9643</td><td> 9</td><td> 8</td><td> 8</td><td> 8</td><td> 8</td><td> 8</td><td> 8</td><td> 9</td><td> 9</td><td> 8</td><td> 9</td><td> 9</td><td> 8</td><td> 8</td><td> 9</td><td> 8</td><td> 9</td><td> 8</td><td> 8</td></tr>\n",
       "\t<tr><td>9644</td><td> 9</td><td> 8</td><td> 9</td><td> 9</td><td> 9</td><td> 9</td><td> 8</td><td> 8</td><td> 8</td><td> 8</td><td> 8</td><td> 9</td><td> 9</td><td> 8</td><td> 8</td><td> 9</td><td> 9</td><td> 9</td><td> 9</td></tr>\n",
       "\t<tr><td>9645</td><td> 9</td><td> 8</td><td> 8</td><td> 8</td><td> 8</td><td> 9</td><td> 8</td><td> 8</td><td> 9</td><td> 8</td><td> 8</td><td> 9</td><td> 9</td><td> 8</td><td> 8</td><td> 7</td><td> 7</td><td> 7</td><td> 7</td></tr>\n",
       "\t<tr><td>9646</td><td> 9</td><td> 8</td><td> 9</td><td> 9</td><td> 9</td><td>10</td><td>10</td><td>10</td><td>10</td><td> 9</td><td> 9</td><td> 9</td><td> 9</td><td>10</td><td>10</td><td> 8</td><td> 8</td><td> 8</td><td> 8</td></tr>\n",
       "\t<tr><td>9647</td><td> 9</td><td> 9</td><td> 8</td><td> 8</td><td> 9</td><td> 9</td><td>10</td><td>10</td><td> 9</td><td> 9</td><td> 9</td><td> 9</td><td> 9</td><td> 8</td><td> 9</td><td> 9</td><td> 9</td><td>10</td><td> 8</td></tr>\n",
       "\t<tr><td>9648</td><td> 9</td><td> 9</td><td> 9</td><td>10</td><td>10</td><td> 9</td><td> 9</td><td> 8</td><td> 8</td><td> 9</td><td>10</td><td> 9</td><td> 9</td><td>10</td><td> 9</td><td> 9</td><td>10</td><td>10</td><td> 9</td></tr>\n",
       "\t<tr><td>9649</td><td>10</td><td> 9</td><td> 8</td><td> 9</td><td> 9</td><td> 9</td><td>10</td><td>10</td><td>10</td><td>10</td><td>10</td><td> 9</td><td> 9</td><td> 8</td><td> 9</td><td> 9</td><td> 9</td><td> 9</td><td> 9</td></tr>\n",
       "\t<tr><td>9650</td><td> 9</td><td> 9</td><td> 8</td><td> 8</td><td> 9</td><td> 9</td><td> 9</td><td> 8</td><td> 9</td><td> 9</td><td> 9</td><td>10</td><td> 9</td><td> 8</td><td> 9</td><td> 9</td><td>10</td><td>10</td><td> 8</td></tr>\n",
       "\t<tr><td>9651</td><td> 9</td><td> 9</td><td>10</td><td>10</td><td> 9</td><td> 9</td><td> 8</td><td> 8</td><td> 9</td><td>10</td><td>10</td><td> 9</td><td> 8</td><td> 9</td><td>10</td><td> 9</td><td>10</td><td> 9</td><td> 9</td></tr>\n",
       "\t<tr><td>9652</td><td> 9</td><td>10</td><td>10</td><td>10</td><td> 9</td><td> 8</td><td> 9</td><td> 9</td><td> 8</td><td> 9</td><td> 9</td><td> 9</td><td> 9</td><td> 8</td><td> 9</td><td> 9</td><td> 9</td><td> 9</td><td> 8</td></tr>\n",
       "\t<tr><td>9653</td><td> 9</td><td> 9</td><td>10</td><td> 9</td><td>10</td><td>10</td><td> 9</td><td> 9</td><td>10</td><td>10</td><td>10</td><td> 8</td><td> 9</td><td> 9</td><td>10</td><td>10</td><td>10</td><td>10</td><td> 7</td></tr>\n",
       "\t<tr><td>9654</td><td> 9</td><td> 9</td><td> 8</td><td> 8</td><td> 9</td><td>10</td><td> 9</td><td> 9</td><td>10</td><td>10</td><td>10</td><td>10</td><td>10</td><td> 9</td><td> 9</td><td> 8</td><td> 8</td><td> 8</td><td> 8</td></tr>\n",
       "\t<tr><td>9655</td><td> 9</td><td> 9</td><td> 8</td><td> 8</td><td> 9</td><td> 9</td><td> 8</td><td> 9</td><td> 8</td><td> 9</td><td> 9</td><td> 9</td><td> 9</td><td> 8</td><td> 8</td><td> 9</td><td> 8</td><td> 8</td><td> 7</td></tr>\n",
       "\t<tr><td>9656</td><td> 9</td><td> 9</td><td> 8</td><td> 8</td><td> 8</td><td> 9</td><td> 9</td><td> 8</td><td> 9</td><td> 9</td><td> 9</td><td> 9</td><td> 9</td><td> 9</td><td> 8</td><td> 7</td><td> 7</td><td> 6</td><td> 7</td></tr>\n",
       "\t<tr><td>9657</td><td> 8</td><td> 7</td><td> 7</td><td> 9</td><td> 8</td><td> 8</td><td> 8</td><td> 8</td><td> 8</td><td> 8</td><td> 9</td><td> 8</td><td> 8</td><td> 9</td><td> 9</td><td> 8</td><td> 8</td><td> 8</td><td> 8</td></tr>\n",
       "\t<tr><td>9658</td><td> 9</td><td> 9</td><td> 9</td><td>10</td><td> 9</td><td> 8</td><td> 9</td><td> 8</td><td> 8</td><td> 8</td><td> 9</td><td>10</td><td>10</td><td> 9</td><td> 9</td><td> 9</td><td> 9</td><td> 9</td><td> 9</td></tr>\n",
       "\t<tr><td>9659</td><td> 8</td><td> 8</td><td> 8</td><td> 9</td><td> 8</td><td> 7</td><td> 8</td><td> 8</td><td> 9</td><td> 8</td><td> 8</td><td> 9</td><td> 9</td><td> 9</td><td> 8</td><td> 8</td><td> 9</td><td> 9</td><td> 8</td></tr>\n",
       "\t<tr><td>9660</td><td> 8</td><td> 8</td><td> 8</td><td> 7</td><td> 7</td><td> 8</td><td> 8</td><td> 7</td><td> 8</td><td> 8</td><td> 8</td><td> 8</td><td> 8</td><td> 8</td><td> 8</td><td> 8</td><td> 8</td><td> 8</td><td> 8</td></tr>\n",
       "\t<tr><td>9661</td><td> 7</td><td> 8</td><td> 8</td><td> 9</td><td> 8</td><td> 8</td><td> 8</td><td> 7</td><td> 7</td><td> 7</td><td> 7</td><td> 7</td><td> 7</td><td> 7</td><td> 7</td><td> 8</td><td> 8</td><td> 8</td><td> 7</td></tr>\n",
       "</tbody>\n",
       "</table>\n"
      ],
      "text/latex": [
       "A data.frame: 4231 × 20\n",
       "\\begin{tabular}{llllllllllllllllllll}\n",
       " enc & p5\\_1 & p5\\_2 & p5\\_3 & p5\\_4 & p5\\_5 & p5\\_6 & p5\\_7 & p5\\_8 & p5\\_9 & p5\\_10 & p5\\_11 & p7\\_1 & p7\\_2 & p7\\_3 & p7\\_4 & p7\\_5 & p7\\_6 & p7\\_7 & p8\\\\\n",
       " <dbl> & <dbl> & <dbl> & <dbl> & <dbl> & <dbl> & <dbl> & <dbl> & <dbl> & <dbl> & <dbl> & <dbl> & <dbl> & <dbl> & <dbl> & <dbl> & <dbl> & <dbl> & <dbl> & <dbl>\\\\\n",
       "\\hline\n",
       "\t  1 &  9 &  8 &  8 &  9 &  9 &  9 &  8 &  7 &  8 &  7 &  7 & 10 & 10 & 10 &  9 & 10 & 10 & 10 &  8\\\\\n",
       "\t  2 & 10 & 10 & 10 & 10 & 10 & 10 & 10 & 10 & 10 & 10 & 10 &  9 & 10 & 10 & 10 & 10 & 10 & 10 & 10\\\\\n",
       "\t  3 & 10 & 10 & 10 & 10 & 10 & 10 & 10 & 10 & 10 & 10 & 10 & 10 & 10 & 10 & 10 & 10 & 10 & 10 & 10\\\\\n",
       "\t  4 & 10 & 10 & 10 & 10 &  5 & 10 & 10 & 10 & 10 & 10 & 10 &  8 & 10 & 10 & 10 & 10 & 10 & 10 & 10\\\\\n",
       "\t  5 & 10 & 10 & 10 & 10 & 10 &  9 & 10 & 10 & 10 &  9 &  9 & 10 & 10 & 10 & 10 & 10 & 10 & 10 & 10\\\\\n",
       "\t  6 & 10 & 10 & 10 & 10 &  6 & 10 & 10 & 10 & 10 & 10 & 10 & 10 & 10 & 10 & 10 & 10 & 10 & 10 & 10\\\\\n",
       "\t  7 & 10 &  9 &  7 &  8 &  5 &  6 &  6 & 10 & 10 & 10 & 10 &  9 &  9 &  9 &  9 &  7 &  7 &  7 &  9\\\\\n",
       "\t  8 &  9 &  9 &  9 &  9 &  9 & 10 & 10 & 10 & 10 & 10 & 10 & 10 & 10 & 10 & 10 & 10 & 10 & 10 & 10\\\\\n",
       "\t  9 & 10 & 10 & 10 & 10 &  8 &  9 &  8 & 10 & 10 &  9 &  9 &  9 &  9 &  9 &  9 &  9 &  9 &  9 & 10\\\\\n",
       "\t 10 & 10 & 10 & 10 &  9 &  7 & 10 & 10 & 10 & 10 & 10 & 10 &  9 &  9 &  9 &  9 &  9 & 10 & 10 & 10\\\\\n",
       "\t 11 &  5 &  8 &  8 &  9 &  9 &  9 &  9 &  9 &  9 &  9 &  9 &  8 &  9 &  9 &  9 &  9 &  9 &  9 &  7\\\\\n",
       "\t 12 & 10 & 10 & 10 & 10 &  6 &  9 & 10 & 10 & 10 & 10 & 10 & 10 & 10 & 10 & 10 & 10 &  8 &  9 & 10\\\\\n",
       "\t 13 &  8 &  8 &  8 &  8 &  8 &  8 &  8 &  8 &  8 &  8 &  8 &  9 &  9 &  9 &  9 &  8 &  8 &  9 &  9\\\\\n",
       "\t 14 & 10 & 10 & 10 & 10 & 10 &  9 &  9 & 10 & 10 & 10 & 10 &  9 & 10 & 10 & 10 &  9 & 10 & 10 & 10\\\\\n",
       "\t 15 &  8 &  8 &  8 &  8 &  8 &  8 &  8 &  9 &  9 &  8 &  8 &  9 &  9 &  9 &  9 &  9 &  9 &  9 & 10\\\\\n",
       "\t 16 &  8 &  8 &  8 &  8 &  8 &  8 &  8 &  8 &  8 &  8 &  7 &  8 &  8 &  9 &  9 &  8 &  8 &  9 & 10\\\\\n",
       "\t 17 &  9 &  9 &  9 &  9 &  8 &  9 &  9 &  9 &  9 &  8 &  8 & 10 & 10 & 10 & 10 & 10 &  9 & 10 &  9\\\\\n",
       "\t 18 &  7 &  7 &  7 &  7 &  8 &  8 &  8 &  8 &  8 &  8 &  8 &  8 &  8 &  8 &  8 &  7 &  7 &  8 &  8\\\\\n",
       "\t 19 & 10 & 10 & 10 &  9 & 10 & 10 & 10 &  9 &  9 &  9 &  9 & 10 & 10 & 10 & 10 & 10 & 10 & 10 & 10\\\\\n",
       "\t 20 & 10 & 10 & 10 & 10 & 10 &  8 & 10 & 10 & 10 & 10 & 10 &  9 &  9 & 10 & 10 & 10 & 10 & 10 & 10\\\\\n",
       "\t 21 &  9 &  9 &  9 &  9 &  9 &  9 &  9 &  9 &  9 &  9 &  9 &  9 &  8 &  8 &  8 &  9 &  9 &  9 &  9\\\\\n",
       "\t 22 &  9 &  9 &  8 &  8 &  8 &  8 &  8 &  7 &  7 &  8 &  8 &  9 & 10 & 10 &  8 &  8 &  8 &  9 &  9\\\\\n",
       "\t 23 & 10 & 10 & 10 & 10 &  9 &  9 &  9 &  9 &  9 & 10 & 10 &  8 & 10 & 10 &  9 &  9 &  9 & 10 &  9\\\\\n",
       "\t 24 &  8 &  8 &  8 &  8 &  8 &  8 &  8 &  8 &  8 &  8 &  8 &  8 &  8 &  8 &  8 &  8 &  8 &  8 &  8\\\\\n",
       "\t 25 &  9 &  9 &  9 &  9 &  1 &  9 &  9 &  9 &  9 &  9 &  9 &  8 &  9 &  9 &  9 &  9 &  9 &  9 &  8\\\\\n",
       "\t 26 &  9 &  9 & 10 & 10 & 10 & 10 & 10 & 10 & 10 & 10 & 10 &  8 &  9 &  9 & 10 &  9 & 10 &  9 &  9\\\\\n",
       "\t 27 & 10 & 10 & 10 & 10 & 10 & 10 & 10 & 10 & 10 & 10 & 10 &  9 & 10 & 10 & 10 &  9 &  9 & 10 & 10\\\\\n",
       "\t 28 & 10 & 10 & 10 & 10 & 10 & 10 & 10 & 10 & 10 & 10 & 10 & 10 & 10 & 10 & 10 & 10 & 10 & 10 & 10\\\\\n",
       "\t 29 &  9 &  9 &  9 &  9 &  9 &  9 &  9 &  9 &  9 &  9 &  9 &  9 &  9 &  9 &  9 &  9 &  9 &  9 & 10\\\\\n",
       "\t 30 & 10 & 10 & 10 & 10 & 10 & 10 & 10 & 10 & 10 & 10 & 10 & 10 & 10 & 10 & 10 & 10 & 10 & 10 & 10\\\\\n",
       "\t ⋮ & ⋮ & ⋮ & ⋮ & ⋮ & ⋮ & ⋮ & ⋮ & ⋮ & ⋮ & ⋮ & ⋮ & ⋮ & ⋮ & ⋮ & ⋮ & ⋮ & ⋮ & ⋮ & ⋮\\\\\n",
       "\t 9632 &  6 &  5 &  6 &  6 &  6 &  6 &  7 &  7 &  6 &  6 &  6 &  7 &  7 &  7 &  7 &  7 &  7 &  7 &  8\\\\\n",
       "\t 9633 &  9 &  9 &  9 &  9 &  9 &  9 &  9 &  9 &  9 &  9 &  9 &  8 &  8 &  8 &  8 &  8 &  8 &  8 & 10\\\\\n",
       "\t 9634 &  8 &  8 &  9 &  8 &  8 &  8 &  8 &  8 &  9 &  8 &  8 &  9 &  9 &  9 &  9 &  9 &  9 &  9 &  9\\\\\n",
       "\t 9635 &  9 &  9 &  9 &  9 &  8 &  8 &  9 &  9 &  9 &  9 &  9 &  8 &  8 &  8 &  8 &  8 &  8 &  8 &  9\\\\\n",
       "\t 9636 &  9 &  8 &  8 &  9 &  9 &  8 &  8 &  9 &  9 &  9 &  9 &  9 &  9 &  9 &  9 &  9 &  9 &  9 &  8\\\\\n",
       "\t 9637 &  8 &  7 &  7 &  7 &  8 &  8 &  8 &  8 &  7 &  8 &  8 &  8 &  8 &  8 &  8 &  8 &  8 &  8 &  8\\\\\n",
       "\t 9638 &  9 &  8 &  9 &  9 &  9 &  8 &  8 &  9 &  9 &  9 &  9 &  9 &  8 &  9 &  9 &  9 &  9 &  9 &  9\\\\\n",
       "\t 9639 &  8 &  7 &  8 &  7 &  9 &  9 &  9 &  8 &  8 &  8 &  8 &  9 &  9 &  8 &  9 &  8 &  8 &  8 &  8\\\\\n",
       "\t 9640 &  9 &  8 &  9 &  8 &  9 &  9 &  9 &  8 &  8 &  8 &  8 &  9 &  8 &  9 &  8 &  9 &  8 &  8 &  8\\\\\n",
       "\t 9641 &  9 &  8 &  9 &  8 &  9 &  9 &  9 &  9 &  9 &  9 &  9 &  9 &  9 &  8 &  8 &  9 &  8 &  8 &  8\\\\\n",
       "\t 9642 &  9 &  8 &  9 &  9 &  8 &  8 &  8 &  8 &  8 &  8 &  8 &  8 &  8 &  9 &  8 &  9 &  8 &  9 &  9\\\\\n",
       "\t 9643 &  9 &  8 &  8 &  8 &  8 &  8 &  8 &  9 &  9 &  8 &  9 &  9 &  8 &  8 &  9 &  8 &  9 &  8 &  8\\\\\n",
       "\t 9644 &  9 &  8 &  9 &  9 &  9 &  9 &  8 &  8 &  8 &  8 &  8 &  9 &  9 &  8 &  8 &  9 &  9 &  9 &  9\\\\\n",
       "\t 9645 &  9 &  8 &  8 &  8 &  8 &  9 &  8 &  8 &  9 &  8 &  8 &  9 &  9 &  8 &  8 &  7 &  7 &  7 &  7\\\\\n",
       "\t 9646 &  9 &  8 &  9 &  9 &  9 & 10 & 10 & 10 & 10 &  9 &  9 &  9 &  9 & 10 & 10 &  8 &  8 &  8 &  8\\\\\n",
       "\t 9647 &  9 &  9 &  8 &  8 &  9 &  9 & 10 & 10 &  9 &  9 &  9 &  9 &  9 &  8 &  9 &  9 &  9 & 10 &  8\\\\\n",
       "\t 9648 &  9 &  9 &  9 & 10 & 10 &  9 &  9 &  8 &  8 &  9 & 10 &  9 &  9 & 10 &  9 &  9 & 10 & 10 &  9\\\\\n",
       "\t 9649 & 10 &  9 &  8 &  9 &  9 &  9 & 10 & 10 & 10 & 10 & 10 &  9 &  9 &  8 &  9 &  9 &  9 &  9 &  9\\\\\n",
       "\t 9650 &  9 &  9 &  8 &  8 &  9 &  9 &  9 &  8 &  9 &  9 &  9 & 10 &  9 &  8 &  9 &  9 & 10 & 10 &  8\\\\\n",
       "\t 9651 &  9 &  9 & 10 & 10 &  9 &  9 &  8 &  8 &  9 & 10 & 10 &  9 &  8 &  9 & 10 &  9 & 10 &  9 &  9\\\\\n",
       "\t 9652 &  9 & 10 & 10 & 10 &  9 &  8 &  9 &  9 &  8 &  9 &  9 &  9 &  9 &  8 &  9 &  9 &  9 &  9 &  8\\\\\n",
       "\t 9653 &  9 &  9 & 10 &  9 & 10 & 10 &  9 &  9 & 10 & 10 & 10 &  8 &  9 &  9 & 10 & 10 & 10 & 10 &  7\\\\\n",
       "\t 9654 &  9 &  9 &  8 &  8 &  9 & 10 &  9 &  9 & 10 & 10 & 10 & 10 & 10 &  9 &  9 &  8 &  8 &  8 &  8\\\\\n",
       "\t 9655 &  9 &  9 &  8 &  8 &  9 &  9 &  8 &  9 &  8 &  9 &  9 &  9 &  9 &  8 &  8 &  9 &  8 &  8 &  7\\\\\n",
       "\t 9656 &  9 &  9 &  8 &  8 &  8 &  9 &  9 &  8 &  9 &  9 &  9 &  9 &  9 &  9 &  8 &  7 &  7 &  6 &  7\\\\\n",
       "\t 9657 &  8 &  7 &  7 &  9 &  8 &  8 &  8 &  8 &  8 &  8 &  9 &  8 &  8 &  9 &  9 &  8 &  8 &  8 &  8\\\\\n",
       "\t 9658 &  9 &  9 &  9 & 10 &  9 &  8 &  9 &  8 &  8 &  8 &  9 & 10 & 10 &  9 &  9 &  9 &  9 &  9 &  9\\\\\n",
       "\t 9659 &  8 &  8 &  8 &  9 &  8 &  7 &  8 &  8 &  9 &  8 &  8 &  9 &  9 &  9 &  8 &  8 &  9 &  9 &  8\\\\\n",
       "\t 9660 &  8 &  8 &  8 &  7 &  7 &  8 &  8 &  7 &  8 &  8 &  8 &  8 &  8 &  8 &  8 &  8 &  8 &  8 &  8\\\\\n",
       "\t 9661 &  7 &  8 &  8 &  9 &  8 &  8 &  8 &  7 &  7 &  7 &  7 &  7 &  7 &  7 &  7 &  8 &  8 &  8 &  7\\\\\n",
       "\\end{tabular}\n"
      ],
      "text/markdown": [
       "\n",
       "A data.frame: 4231 × 20\n",
       "\n",
       "| enc &lt;dbl&gt; | p5_1 &lt;dbl&gt; | p5_2 &lt;dbl&gt; | p5_3 &lt;dbl&gt; | p5_4 &lt;dbl&gt; | p5_5 &lt;dbl&gt; | p5_6 &lt;dbl&gt; | p5_7 &lt;dbl&gt; | p5_8 &lt;dbl&gt; | p5_9 &lt;dbl&gt; | p5_10 &lt;dbl&gt; | p5_11 &lt;dbl&gt; | p7_1 &lt;dbl&gt; | p7_2 &lt;dbl&gt; | p7_3 &lt;dbl&gt; | p7_4 &lt;dbl&gt; | p7_5 &lt;dbl&gt; | p7_6 &lt;dbl&gt; | p7_7 &lt;dbl&gt; | p8 &lt;dbl&gt; |\n",
       "|---|---|---|---|---|---|---|---|---|---|---|---|---|---|---|---|---|---|---|---|\n",
       "|  1 |  9 |  8 |  8 |  9 |  9 |  9 |  8 |  7 |  8 |  7 |  7 | 10 | 10 | 10 |  9 | 10 | 10 | 10 |  8 |\n",
       "|  2 | 10 | 10 | 10 | 10 | 10 | 10 | 10 | 10 | 10 | 10 | 10 |  9 | 10 | 10 | 10 | 10 | 10 | 10 | 10 |\n",
       "|  3 | 10 | 10 | 10 | 10 | 10 | 10 | 10 | 10 | 10 | 10 | 10 | 10 | 10 | 10 | 10 | 10 | 10 | 10 | 10 |\n",
       "|  4 | 10 | 10 | 10 | 10 |  5 | 10 | 10 | 10 | 10 | 10 | 10 |  8 | 10 | 10 | 10 | 10 | 10 | 10 | 10 |\n",
       "|  5 | 10 | 10 | 10 | 10 | 10 |  9 | 10 | 10 | 10 |  9 |  9 | 10 | 10 | 10 | 10 | 10 | 10 | 10 | 10 |\n",
       "|  6 | 10 | 10 | 10 | 10 |  6 | 10 | 10 | 10 | 10 | 10 | 10 | 10 | 10 | 10 | 10 | 10 | 10 | 10 | 10 |\n",
       "|  7 | 10 |  9 |  7 |  8 |  5 |  6 |  6 | 10 | 10 | 10 | 10 |  9 |  9 |  9 |  9 |  7 |  7 |  7 |  9 |\n",
       "|  8 |  9 |  9 |  9 |  9 |  9 | 10 | 10 | 10 | 10 | 10 | 10 | 10 | 10 | 10 | 10 | 10 | 10 | 10 | 10 |\n",
       "|  9 | 10 | 10 | 10 | 10 |  8 |  9 |  8 | 10 | 10 |  9 |  9 |  9 |  9 |  9 |  9 |  9 |  9 |  9 | 10 |\n",
       "| 10 | 10 | 10 | 10 |  9 |  7 | 10 | 10 | 10 | 10 | 10 | 10 |  9 |  9 |  9 |  9 |  9 | 10 | 10 | 10 |\n",
       "| 11 |  5 |  8 |  8 |  9 |  9 |  9 |  9 |  9 |  9 |  9 |  9 |  8 |  9 |  9 |  9 |  9 |  9 |  9 |  7 |\n",
       "| 12 | 10 | 10 | 10 | 10 |  6 |  9 | 10 | 10 | 10 | 10 | 10 | 10 | 10 | 10 | 10 | 10 |  8 |  9 | 10 |\n",
       "| 13 |  8 |  8 |  8 |  8 |  8 |  8 |  8 |  8 |  8 |  8 |  8 |  9 |  9 |  9 |  9 |  8 |  8 |  9 |  9 |\n",
       "| 14 | 10 | 10 | 10 | 10 | 10 |  9 |  9 | 10 | 10 | 10 | 10 |  9 | 10 | 10 | 10 |  9 | 10 | 10 | 10 |\n",
       "| 15 |  8 |  8 |  8 |  8 |  8 |  8 |  8 |  9 |  9 |  8 |  8 |  9 |  9 |  9 |  9 |  9 |  9 |  9 | 10 |\n",
       "| 16 |  8 |  8 |  8 |  8 |  8 |  8 |  8 |  8 |  8 |  8 |  7 |  8 |  8 |  9 |  9 |  8 |  8 |  9 | 10 |\n",
       "| 17 |  9 |  9 |  9 |  9 |  8 |  9 |  9 |  9 |  9 |  8 |  8 | 10 | 10 | 10 | 10 | 10 |  9 | 10 |  9 |\n",
       "| 18 |  7 |  7 |  7 |  7 |  8 |  8 |  8 |  8 |  8 |  8 |  8 |  8 |  8 |  8 |  8 |  7 |  7 |  8 |  8 |\n",
       "| 19 | 10 | 10 | 10 |  9 | 10 | 10 | 10 |  9 |  9 |  9 |  9 | 10 | 10 | 10 | 10 | 10 | 10 | 10 | 10 |\n",
       "| 20 | 10 | 10 | 10 | 10 | 10 |  8 | 10 | 10 | 10 | 10 | 10 |  9 |  9 | 10 | 10 | 10 | 10 | 10 | 10 |\n",
       "| 21 |  9 |  9 |  9 |  9 |  9 |  9 |  9 |  9 |  9 |  9 |  9 |  9 |  8 |  8 |  8 |  9 |  9 |  9 |  9 |\n",
       "| 22 |  9 |  9 |  8 |  8 |  8 |  8 |  8 |  7 |  7 |  8 |  8 |  9 | 10 | 10 |  8 |  8 |  8 |  9 |  9 |\n",
       "| 23 | 10 | 10 | 10 | 10 |  9 |  9 |  9 |  9 |  9 | 10 | 10 |  8 | 10 | 10 |  9 |  9 |  9 | 10 |  9 |\n",
       "| 24 |  8 |  8 |  8 |  8 |  8 |  8 |  8 |  8 |  8 |  8 |  8 |  8 |  8 |  8 |  8 |  8 |  8 |  8 |  8 |\n",
       "| 25 |  9 |  9 |  9 |  9 |  1 |  9 |  9 |  9 |  9 |  9 |  9 |  8 |  9 |  9 |  9 |  9 |  9 |  9 |  8 |\n",
       "| 26 |  9 |  9 | 10 | 10 | 10 | 10 | 10 | 10 | 10 | 10 | 10 |  8 |  9 |  9 | 10 |  9 | 10 |  9 |  9 |\n",
       "| 27 | 10 | 10 | 10 | 10 | 10 | 10 | 10 | 10 | 10 | 10 | 10 |  9 | 10 | 10 | 10 |  9 |  9 | 10 | 10 |\n",
       "| 28 | 10 | 10 | 10 | 10 | 10 | 10 | 10 | 10 | 10 | 10 | 10 | 10 | 10 | 10 | 10 | 10 | 10 | 10 | 10 |\n",
       "| 29 |  9 |  9 |  9 |  9 |  9 |  9 |  9 |  9 |  9 |  9 |  9 |  9 |  9 |  9 |  9 |  9 |  9 |  9 | 10 |\n",
       "| 30 | 10 | 10 | 10 | 10 | 10 | 10 | 10 | 10 | 10 | 10 | 10 | 10 | 10 | 10 | 10 | 10 | 10 | 10 | 10 |\n",
       "| ⋮ | ⋮ | ⋮ | ⋮ | ⋮ | ⋮ | ⋮ | ⋮ | ⋮ | ⋮ | ⋮ | ⋮ | ⋮ | ⋮ | ⋮ | ⋮ | ⋮ | ⋮ | ⋮ | ⋮ |\n",
       "| 9632 |  6 |  5 |  6 |  6 |  6 |  6 |  7 |  7 |  6 |  6 |  6 |  7 |  7 |  7 |  7 |  7 |  7 |  7 |  8 |\n",
       "| 9633 |  9 |  9 |  9 |  9 |  9 |  9 |  9 |  9 |  9 |  9 |  9 |  8 |  8 |  8 |  8 |  8 |  8 |  8 | 10 |\n",
       "| 9634 |  8 |  8 |  9 |  8 |  8 |  8 |  8 |  8 |  9 |  8 |  8 |  9 |  9 |  9 |  9 |  9 |  9 |  9 |  9 |\n",
       "| 9635 |  9 |  9 |  9 |  9 |  8 |  8 |  9 |  9 |  9 |  9 |  9 |  8 |  8 |  8 |  8 |  8 |  8 |  8 |  9 |\n",
       "| 9636 |  9 |  8 |  8 |  9 |  9 |  8 |  8 |  9 |  9 |  9 |  9 |  9 |  9 |  9 |  9 |  9 |  9 |  9 |  8 |\n",
       "| 9637 |  8 |  7 |  7 |  7 |  8 |  8 |  8 |  8 |  7 |  8 |  8 |  8 |  8 |  8 |  8 |  8 |  8 |  8 |  8 |\n",
       "| 9638 |  9 |  8 |  9 |  9 |  9 |  8 |  8 |  9 |  9 |  9 |  9 |  9 |  8 |  9 |  9 |  9 |  9 |  9 |  9 |\n",
       "| 9639 |  8 |  7 |  8 |  7 |  9 |  9 |  9 |  8 |  8 |  8 |  8 |  9 |  9 |  8 |  9 |  8 |  8 |  8 |  8 |\n",
       "| 9640 |  9 |  8 |  9 |  8 |  9 |  9 |  9 |  8 |  8 |  8 |  8 |  9 |  8 |  9 |  8 |  9 |  8 |  8 |  8 |\n",
       "| 9641 |  9 |  8 |  9 |  8 |  9 |  9 |  9 |  9 |  9 |  9 |  9 |  9 |  9 |  8 |  8 |  9 |  8 |  8 |  8 |\n",
       "| 9642 |  9 |  8 |  9 |  9 |  8 |  8 |  8 |  8 |  8 |  8 |  8 |  8 |  8 |  9 |  8 |  9 |  8 |  9 |  9 |\n",
       "| 9643 |  9 |  8 |  8 |  8 |  8 |  8 |  8 |  9 |  9 |  8 |  9 |  9 |  8 |  8 |  9 |  8 |  9 |  8 |  8 |\n",
       "| 9644 |  9 |  8 |  9 |  9 |  9 |  9 |  8 |  8 |  8 |  8 |  8 |  9 |  9 |  8 |  8 |  9 |  9 |  9 |  9 |\n",
       "| 9645 |  9 |  8 |  8 |  8 |  8 |  9 |  8 |  8 |  9 |  8 |  8 |  9 |  9 |  8 |  8 |  7 |  7 |  7 |  7 |\n",
       "| 9646 |  9 |  8 |  9 |  9 |  9 | 10 | 10 | 10 | 10 |  9 |  9 |  9 |  9 | 10 | 10 |  8 |  8 |  8 |  8 |\n",
       "| 9647 |  9 |  9 |  8 |  8 |  9 |  9 | 10 | 10 |  9 |  9 |  9 |  9 |  9 |  8 |  9 |  9 |  9 | 10 |  8 |\n",
       "| 9648 |  9 |  9 |  9 | 10 | 10 |  9 |  9 |  8 |  8 |  9 | 10 |  9 |  9 | 10 |  9 |  9 | 10 | 10 |  9 |\n",
       "| 9649 | 10 |  9 |  8 |  9 |  9 |  9 | 10 | 10 | 10 | 10 | 10 |  9 |  9 |  8 |  9 |  9 |  9 |  9 |  9 |\n",
       "| 9650 |  9 |  9 |  8 |  8 |  9 |  9 |  9 |  8 |  9 |  9 |  9 | 10 |  9 |  8 |  9 |  9 | 10 | 10 |  8 |\n",
       "| 9651 |  9 |  9 | 10 | 10 |  9 |  9 |  8 |  8 |  9 | 10 | 10 |  9 |  8 |  9 | 10 |  9 | 10 |  9 |  9 |\n",
       "| 9652 |  9 | 10 | 10 | 10 |  9 |  8 |  9 |  9 |  8 |  9 |  9 |  9 |  9 |  8 |  9 |  9 |  9 |  9 |  8 |\n",
       "| 9653 |  9 |  9 | 10 |  9 | 10 | 10 |  9 |  9 | 10 | 10 | 10 |  8 |  9 |  9 | 10 | 10 | 10 | 10 |  7 |\n",
       "| 9654 |  9 |  9 |  8 |  8 |  9 | 10 |  9 |  9 | 10 | 10 | 10 | 10 | 10 |  9 |  9 |  8 |  8 |  8 |  8 |\n",
       "| 9655 |  9 |  9 |  8 |  8 |  9 |  9 |  8 |  9 |  8 |  9 |  9 |  9 |  9 |  8 |  8 |  9 |  8 |  8 |  7 |\n",
       "| 9656 |  9 |  9 |  8 |  8 |  8 |  9 |  9 |  8 |  9 |  9 |  9 |  9 |  9 |  9 |  8 |  7 |  7 |  6 |  7 |\n",
       "| 9657 |  8 |  7 |  7 |  9 |  8 |  8 |  8 |  8 |  8 |  8 |  9 |  8 |  8 |  9 |  9 |  8 |  8 |  8 |  8 |\n",
       "| 9658 |  9 |  9 |  9 | 10 |  9 |  8 |  9 |  8 |  8 |  8 |  9 | 10 | 10 |  9 |  9 |  9 |  9 |  9 |  9 |\n",
       "| 9659 |  8 |  8 |  8 |  9 |  8 |  7 |  8 |  8 |  9 |  8 |  8 |  9 |  9 |  9 |  8 |  8 |  9 |  9 |  8 |\n",
       "| 9660 |  8 |  8 |  8 |  7 |  7 |  8 |  8 |  7 |  8 |  8 |  8 |  8 |  8 |  8 |  8 |  8 |  8 |  8 |  8 |\n",
       "| 9661 |  7 |  8 |  8 |  9 |  8 |  8 |  8 |  7 |  7 |  7 |  7 |  7 |  7 |  7 |  7 |  8 |  8 |  8 |  7 |\n",
       "\n"
      ],
      "text/plain": [
       "     enc  p5_1 p5_2 p5_3 p5_4 p5_5 p5_6 p5_7 p5_8 p5_9 p5_10 p5_11 p7_1 p7_2\n",
       "1     1    9    8    8    9    9    9    8    7    8    7     7    10   10  \n",
       "2     2   10   10   10   10   10   10   10   10   10   10    10     9   10  \n",
       "3     3   10   10   10   10   10   10   10   10   10   10    10    10   10  \n",
       "4     4   10   10   10   10    5   10   10   10   10   10    10     8   10  \n",
       "5     5   10   10   10   10   10    9   10   10   10    9     9    10   10  \n",
       "6     6   10   10   10   10    6   10   10   10   10   10    10    10   10  \n",
       "7     7   10    9    7    8    5    6    6   10   10   10    10     9    9  \n",
       "8     8    9    9    9    9    9   10   10   10   10   10    10    10   10  \n",
       "9     9   10   10   10   10    8    9    8   10   10    9     9     9    9  \n",
       "10   10   10   10   10    9    7   10   10   10   10   10    10     9    9  \n",
       "11   11    5    8    8    9    9    9    9    9    9    9     9     8    9  \n",
       "12   12   10   10   10   10    6    9   10   10   10   10    10    10   10  \n",
       "13   13    8    8    8    8    8    8    8    8    8    8     8     9    9  \n",
       "14   14   10   10   10   10   10    9    9   10   10   10    10     9   10  \n",
       "15   15    8    8    8    8    8    8    8    9    9    8     8     9    9  \n",
       "16   16    8    8    8    8    8    8    8    8    8    8     7     8    8  \n",
       "17   17    9    9    9    9    8    9    9    9    9    8     8    10   10  \n",
       "18   18    7    7    7    7    8    8    8    8    8    8     8     8    8  \n",
       "19   19   10   10   10    9   10   10   10    9    9    9     9    10   10  \n",
       "20   20   10   10   10   10   10    8   10   10   10   10    10     9    9  \n",
       "21   21    9    9    9    9    9    9    9    9    9    9     9     9    8  \n",
       "22   22    9    9    8    8    8    8    8    7    7    8     8     9   10  \n",
       "23   23   10   10   10   10    9    9    9    9    9   10    10     8   10  \n",
       "24   24    8    8    8    8    8    8    8    8    8    8     8     8    8  \n",
       "25   25    9    9    9    9    1    9    9    9    9    9     9     8    9  \n",
       "26   26    9    9   10   10   10   10   10   10   10   10    10     8    9  \n",
       "27   27   10   10   10   10   10   10   10   10   10   10    10     9   10  \n",
       "28   28   10   10   10   10   10   10   10   10   10   10    10    10   10  \n",
       "29   29    9    9    9    9    9    9    9    9    9    9     9     9    9  \n",
       "30   30   10   10   10   10   10   10   10   10   10   10    10    10   10  \n",
       "⋮    ⋮    ⋮    ⋮    ⋮    ⋮    ⋮    ⋮    ⋮    ⋮    ⋮    ⋮     ⋮     ⋮    ⋮   \n",
       "4202 9632  6    5    6    6    6    6    7    7    6    6     6     7    7  \n",
       "4203 9633  9    9    9    9    9    9    9    9    9    9     9     8    8  \n",
       "4204 9634  8    8    9    8    8    8    8    8    9    8     8     9    9  \n",
       "4205 9635  9    9    9    9    8    8    9    9    9    9     9     8    8  \n",
       "4206 9636  9    8    8    9    9    8    8    9    9    9     9     9    9  \n",
       "4207 9637  8    7    7    7    8    8    8    8    7    8     8     8    8  \n",
       "4208 9638  9    8    9    9    9    8    8    9    9    9     9     9    8  \n",
       "4209 9639  8    7    8    7    9    9    9    8    8    8     8     9    9  \n",
       "4210 9640  9    8    9    8    9    9    9    8    8    8     8     9    8  \n",
       "4211 9641  9    8    9    8    9    9    9    9    9    9     9     9    9  \n",
       "4212 9642  9    8    9    9    8    8    8    8    8    8     8     8    8  \n",
       "4213 9643  9    8    8    8    8    8    8    9    9    8     9     9    8  \n",
       "4214 9644  9    8    9    9    9    9    8    8    8    8     8     9    9  \n",
       "4215 9645  9    8    8    8    8    9    8    8    9    8     8     9    9  \n",
       "4216 9646  9    8    9    9    9   10   10   10   10    9     9     9    9  \n",
       "4217 9647  9    9    8    8    9    9   10   10    9    9     9     9    9  \n",
       "4218 9648  9    9    9   10   10    9    9    8    8    9    10     9    9  \n",
       "4219 9649 10    9    8    9    9    9   10   10   10   10    10     9    9  \n",
       "4220 9650  9    9    8    8    9    9    9    8    9    9     9    10    9  \n",
       "4221 9651  9    9   10   10    9    9    8    8    9   10    10     9    8  \n",
       "4222 9652  9   10   10   10    9    8    9    9    8    9     9     9    9  \n",
       "4223 9653  9    9   10    9   10   10    9    9   10   10    10     8    9  \n",
       "4224 9654  9    9    8    8    9   10    9    9   10   10    10    10   10  \n",
       "4225 9655  9    9    8    8    9    9    8    9    8    9     9     9    9  \n",
       "4226 9656  9    9    8    8    8    9    9    8    9    9     9     9    9  \n",
       "4227 9657  8    7    7    9    8    8    8    8    8    8     9     8    8  \n",
       "4228 9658  9    9    9   10    9    8    9    8    8    8     9    10   10  \n",
       "4229 9659  8    8    8    9    8    7    8    8    9    8     8     9    9  \n",
       "4230 9660  8    8    8    7    7    8    8    7    8    8     8     8    8  \n",
       "4231 9661  7    8    8    9    8    8    8    7    7    7     7     7    7  \n",
       "     p7_3 p7_4 p7_5 p7_6 p7_7 p8\n",
       "1    10    9   10   10   10    8\n",
       "2    10   10   10   10   10   10\n",
       "3    10   10   10   10   10   10\n",
       "4    10   10   10   10   10   10\n",
       "5    10   10   10   10   10   10\n",
       "6    10   10   10   10   10   10\n",
       "7     9    9    7    7    7    9\n",
       "8    10   10   10   10   10   10\n",
       "9     9    9    9    9    9   10\n",
       "10    9    9    9   10   10   10\n",
       "11    9    9    9    9    9    7\n",
       "12   10   10   10    8    9   10\n",
       "13    9    9    8    8    9    9\n",
       "14   10   10    9   10   10   10\n",
       "15    9    9    9    9    9   10\n",
       "16    9    9    8    8    9   10\n",
       "17   10   10   10    9   10    9\n",
       "18    8    8    7    7    8    8\n",
       "19   10   10   10   10   10   10\n",
       "20   10   10   10   10   10   10\n",
       "21    8    8    9    9    9    9\n",
       "22   10    8    8    8    9    9\n",
       "23   10    9    9    9   10    9\n",
       "24    8    8    8    8    8    8\n",
       "25    9    9    9    9    9    8\n",
       "26    9   10    9   10    9    9\n",
       "27   10   10    9    9   10   10\n",
       "28   10   10   10   10   10   10\n",
       "29    9    9    9    9    9   10\n",
       "30   10   10   10   10   10   10\n",
       "⋮    ⋮    ⋮    ⋮    ⋮    ⋮    ⋮ \n",
       "4202  7    7    7    7    7    8\n",
       "4203  8    8    8    8    8   10\n",
       "4204  9    9    9    9    9    9\n",
       "4205  8    8    8    8    8    9\n",
       "4206  9    9    9    9    9    8\n",
       "4207  8    8    8    8    8    8\n",
       "4208  9    9    9    9    9    9\n",
       "4209  8    9    8    8    8    8\n",
       "4210  9    8    9    8    8    8\n",
       "4211  8    8    9    8    8    8\n",
       "4212  9    8    9    8    9    9\n",
       "4213  8    9    8    9    8    8\n",
       "4214  8    8    9    9    9    9\n",
       "4215  8    8    7    7    7    7\n",
       "4216 10   10    8    8    8    8\n",
       "4217  8    9    9    9   10    8\n",
       "4218 10    9    9   10   10    9\n",
       "4219  8    9    9    9    9    9\n",
       "4220  8    9    9   10   10    8\n",
       "4221  9   10    9   10    9    9\n",
       "4222  8    9    9    9    9    8\n",
       "4223  9   10   10   10   10    7\n",
       "4224  9    9    8    8    8    8\n",
       "4225  8    8    9    8    8    7\n",
       "4226  9    8    7    7    6    7\n",
       "4227  9    9    8    8    8    8\n",
       "4228  9    9    9    9    9    9\n",
       "4229  9    8    8    9    9    8\n",
       "4230  8    8    8    8    8    8\n",
       "4231  7    7    8    8    8    7"
      ]
     },
     "metadata": {},
     "output_type": "display_data"
    }
   ],
   "source": [
    "#ver todos los datos\n",
    "View(datos)\n"
   ]
  },
  {
   "cell_type": "code",
   "execution_count": null,
   "metadata": {
    "vscode": {
     "languageId": "r"
    }
   },
   "outputs": [],
   "source": []
  },
  {
   "cell_type": "code",
   "execution_count": 29,
   "metadata": {
    "vscode": {
     "languageId": "r"
    }
   },
   "outputs": [],
   "source": [
    "datos_perdidos <- colSums(is.na(datos))  |> as.data.frame()"
   ]
  },
  {
   "cell_type": "markdown",
   "metadata": {},
   "source": [
    "DISTRIBUCION DE VARIABLES CONTINUAS"
   ]
  },
  {
   "cell_type": "code",
   "execution_count": 32,
   "metadata": {
    "vscode": {
     "languageId": "r"
    }
   },
   "outputs": [],
   "source": [
    "#ver todos los datos\n",
    "``\n",
    "\n"
   ]
  },
  {
   "cell_type": "code",
   "execution_count": 1,
   "metadata": {
    "vscode": {
     "languageId": "r"
    }
   },
   "outputs": [
    {
     "name": "stderr",
     "output_type": "stream",
     "text": [
      "Installing package into 'C:/Users/james/AppData/Local/R/win-library/4.4'\n",
      "(as 'lib' is unspecified)\n",
      "\n"
     ]
    },
    {
     "name": "stdout",
     "output_type": "stream",
     "text": [
      "package 'haven' successfully unpacked and MD5 sums checked\n"
     ]
    },
    {
     "name": "stderr",
     "output_type": "stream",
     "text": [
      "Warning message:\n",
      "\"cannot remove prior installation of package 'haven'\"\n",
      "Warning message in file.copy(savedcopy, lib, recursive = TRUE):\n",
      "\"problem copying C:\\Users\\james\\AppData\\Local\\R\\win-library\\4.4\\00LOCK\\haven\\libs\\x64\\haven.dll to C:\\Users\\james\\AppData\\Local\\R\\win-library\\4.4\\haven\\libs\\x64\\haven.dll: Permission denied\"\n",
      "Warning message:\n",
      "\"restored 'haven'\"\n"
     ]
    },
    {
     "name": "stdout",
     "output_type": "stream",
     "text": [
      "\n",
      "The downloaded binary packages are in\n",
      "\tC:\\Users\\james\\AppData\\Local\\Temp\\RtmpqwkEI4\\downloaded_packages\n"
     ]
    },
    {
     "data": {
      "text/html": [
       "<table class=\"dataframe\">\n",
       "<caption>A tibble: 6 × 20</caption>\n",
       "<thead>\n",
       "\t<tr><th scope=col>enc</th><th scope=col>p5_1</th><th scope=col>p5_2</th><th scope=col>p5_3</th><th scope=col>p5_4</th><th scope=col>p5_5</th><th scope=col>p5_6</th><th scope=col>p5_7</th><th scope=col>p5_8</th><th scope=col>p5_9</th><th scope=col>p5_10</th><th scope=col>p5_11</th><th scope=col>p7_1</th><th scope=col>p7_2</th><th scope=col>p7_3</th><th scope=col>p7_4</th><th scope=col>p7_5</th><th scope=col>p7_6</th><th scope=col>p7_7</th><th scope=col>p8</th></tr>\n",
       "\t<tr><th scope=col>&lt;dbl&gt;</th><th scope=col>&lt;dbl&gt;</th><th scope=col>&lt;dbl&gt;</th><th scope=col>&lt;dbl&gt;</th><th scope=col>&lt;dbl&gt;</th><th scope=col>&lt;dbl&gt;</th><th scope=col>&lt;dbl&gt;</th><th scope=col>&lt;dbl&gt;</th><th scope=col>&lt;dbl&gt;</th><th scope=col>&lt;dbl&gt;</th><th scope=col>&lt;dbl&gt;</th><th scope=col>&lt;dbl&gt;</th><th scope=col>&lt;dbl&gt;</th><th scope=col>&lt;dbl&gt;</th><th scope=col>&lt;dbl&gt;</th><th scope=col>&lt;dbl&gt;</th><th scope=col>&lt;dbl&gt;</th><th scope=col>&lt;dbl&gt;</th><th scope=col>&lt;dbl&gt;</th><th scope=col>&lt;dbl&gt;</th></tr>\n",
       "</thead>\n",
       "<tbody>\n",
       "\t<tr><td>1</td><td> 9</td><td> 8</td><td> 8</td><td> 9</td><td> 9</td><td> 9</td><td> 8</td><td> 7</td><td> 8</td><td> 7</td><td> 7</td><td>10</td><td>10</td><td>10</td><td> 9</td><td>10</td><td>10</td><td>10</td><td> 8</td></tr>\n",
       "\t<tr><td>2</td><td>10</td><td>10</td><td>10</td><td>10</td><td>10</td><td>10</td><td>10</td><td>10</td><td>10</td><td>10</td><td>10</td><td> 9</td><td>10</td><td>10</td><td>10</td><td>10</td><td>10</td><td>10</td><td>10</td></tr>\n",
       "\t<tr><td>3</td><td>10</td><td>10</td><td>10</td><td>10</td><td>10</td><td>10</td><td>10</td><td>10</td><td>10</td><td>10</td><td>10</td><td>10</td><td>10</td><td>10</td><td>10</td><td>10</td><td>10</td><td>10</td><td>10</td></tr>\n",
       "\t<tr><td>4</td><td>10</td><td>10</td><td>10</td><td>10</td><td> 5</td><td>10</td><td>10</td><td>10</td><td>10</td><td>10</td><td>10</td><td> 8</td><td>10</td><td>10</td><td>10</td><td>10</td><td>10</td><td>10</td><td>10</td></tr>\n",
       "\t<tr><td>5</td><td>10</td><td>10</td><td>10</td><td>10</td><td>10</td><td> 9</td><td>10</td><td>10</td><td>10</td><td> 9</td><td> 9</td><td>10</td><td>10</td><td>10</td><td>10</td><td>10</td><td>10</td><td>10</td><td>10</td></tr>\n",
       "\t<tr><td>6</td><td>10</td><td>10</td><td>10</td><td>10</td><td> 6</td><td>10</td><td>10</td><td>10</td><td>10</td><td>10</td><td>10</td><td>10</td><td>10</td><td>10</td><td>10</td><td>10</td><td>10</td><td>10</td><td>10</td></tr>\n",
       "</tbody>\n",
       "</table>\n"
      ],
      "text/latex": [
       "A tibble: 6 × 20\n",
       "\\begin{tabular}{llllllllllllllllllll}\n",
       " enc & p5\\_1 & p5\\_2 & p5\\_3 & p5\\_4 & p5\\_5 & p5\\_6 & p5\\_7 & p5\\_8 & p5\\_9 & p5\\_10 & p5\\_11 & p7\\_1 & p7\\_2 & p7\\_3 & p7\\_4 & p7\\_5 & p7\\_6 & p7\\_7 & p8\\\\\n",
       " <dbl> & <dbl> & <dbl> & <dbl> & <dbl> & <dbl> & <dbl> & <dbl> & <dbl> & <dbl> & <dbl> & <dbl> & <dbl> & <dbl> & <dbl> & <dbl> & <dbl> & <dbl> & <dbl> & <dbl>\\\\\n",
       "\\hline\n",
       "\t 1 &  9 &  8 &  8 &  9 &  9 &  9 &  8 &  7 &  8 &  7 &  7 & 10 & 10 & 10 &  9 & 10 & 10 & 10 &  8\\\\\n",
       "\t 2 & 10 & 10 & 10 & 10 & 10 & 10 & 10 & 10 & 10 & 10 & 10 &  9 & 10 & 10 & 10 & 10 & 10 & 10 & 10\\\\\n",
       "\t 3 & 10 & 10 & 10 & 10 & 10 & 10 & 10 & 10 & 10 & 10 & 10 & 10 & 10 & 10 & 10 & 10 & 10 & 10 & 10\\\\\n",
       "\t 4 & 10 & 10 & 10 & 10 &  5 & 10 & 10 & 10 & 10 & 10 & 10 &  8 & 10 & 10 & 10 & 10 & 10 & 10 & 10\\\\\n",
       "\t 5 & 10 & 10 & 10 & 10 & 10 &  9 & 10 & 10 & 10 &  9 &  9 & 10 & 10 & 10 & 10 & 10 & 10 & 10 & 10\\\\\n",
       "\t 6 & 10 & 10 & 10 & 10 &  6 & 10 & 10 & 10 & 10 & 10 & 10 & 10 & 10 & 10 & 10 & 10 & 10 & 10 & 10\\\\\n",
       "\\end{tabular}\n"
      ],
      "text/markdown": [
       "\n",
       "A tibble: 6 × 20\n",
       "\n",
       "| enc &lt;dbl&gt; | p5_1 &lt;dbl&gt; | p5_2 &lt;dbl&gt; | p5_3 &lt;dbl&gt; | p5_4 &lt;dbl&gt; | p5_5 &lt;dbl&gt; | p5_6 &lt;dbl&gt; | p5_7 &lt;dbl&gt; | p5_8 &lt;dbl&gt; | p5_9 &lt;dbl&gt; | p5_10 &lt;dbl&gt; | p5_11 &lt;dbl&gt; | p7_1 &lt;dbl&gt; | p7_2 &lt;dbl&gt; | p7_3 &lt;dbl&gt; | p7_4 &lt;dbl&gt; | p7_5 &lt;dbl&gt; | p7_6 &lt;dbl&gt; | p7_7 &lt;dbl&gt; | p8 &lt;dbl&gt; |\n",
       "|---|---|---|---|---|---|---|---|---|---|---|---|---|---|---|---|---|---|---|---|\n",
       "| 1 |  9 |  8 |  8 |  9 |  9 |  9 |  8 |  7 |  8 |  7 |  7 | 10 | 10 | 10 |  9 | 10 | 10 | 10 |  8 |\n",
       "| 2 | 10 | 10 | 10 | 10 | 10 | 10 | 10 | 10 | 10 | 10 | 10 |  9 | 10 | 10 | 10 | 10 | 10 | 10 | 10 |\n",
       "| 3 | 10 | 10 | 10 | 10 | 10 | 10 | 10 | 10 | 10 | 10 | 10 | 10 | 10 | 10 | 10 | 10 | 10 | 10 | 10 |\n",
       "| 4 | 10 | 10 | 10 | 10 |  5 | 10 | 10 | 10 | 10 | 10 | 10 |  8 | 10 | 10 | 10 | 10 | 10 | 10 | 10 |\n",
       "| 5 | 10 | 10 | 10 | 10 | 10 |  9 | 10 | 10 | 10 |  9 |  9 | 10 | 10 | 10 | 10 | 10 | 10 | 10 | 10 |\n",
       "| 6 | 10 | 10 | 10 | 10 |  6 | 10 | 10 | 10 | 10 | 10 | 10 | 10 | 10 | 10 | 10 | 10 | 10 | 10 | 10 |\n",
       "\n"
      ],
      "text/plain": [
       "  enc p5_1 p5_2 p5_3 p5_4 p5_5 p5_6 p5_7 p5_8 p5_9 p5_10 p5_11 p7_1 p7_2 p7_3\n",
       "1 1    9    8    8    9    9    9    8    7    8    7     7    10   10   10  \n",
       "2 2   10   10   10   10   10   10   10   10   10   10    10     9   10   10  \n",
       "3 3   10   10   10   10   10   10   10   10   10   10    10    10   10   10  \n",
       "4 4   10   10   10   10    5   10   10   10   10   10    10     8   10   10  \n",
       "5 5   10   10   10   10   10    9   10   10   10    9     9    10   10   10  \n",
       "6 6   10   10   10   10    6   10   10   10   10   10    10    10   10   10  \n",
       "  p7_4 p7_5 p7_6 p7_7 p8\n",
       "1  9   10   10   10    8\n",
       "2 10   10   10   10   10\n",
       "3 10   10   10   10   10\n",
       "4 10   10   10   10   10\n",
       "5 10   10   10   10   10\n",
       "6 10   10   10   10   10"
      ]
     },
     "metadata": {},
     "output_type": "display_data"
    },
    {
     "data": {
      "text/plain": [
       "      enc            p5_1             p5_2             p5_3       \n",
       " Min.   :   1   Min.   : 1.000   Min.   : 1.000   Min.   : 1.000  \n",
       " 1st Qu.:1972   1st Qu.: 8.000   1st Qu.: 8.000   1st Qu.: 8.000  \n",
       " Median :4435   Median : 9.000   Median : 9.000   Median : 9.000  \n",
       " Mean   :4956   Mean   : 8.675   Mean   : 8.718   Mean   : 8.732  \n",
       " 3rd Qu.:7956   3rd Qu.:10.000   3rd Qu.:10.000   3rd Qu.:10.000  \n",
       " Max.   :9661   Max.   :10.000   Max.   :10.000   Max.   :10.000  \n",
       "      p5_4             p5_5             p5_6             p5_7       \n",
       " Min.   : 1.000   Min.   : 1.000   Min.   : 1.000   Min.   : 1.000  \n",
       " 1st Qu.: 8.000   1st Qu.: 6.000   1st Qu.: 8.000   1st Qu.: 8.000  \n",
       " Median : 9.000   Median : 8.000   Median : 9.000   Median : 9.000  \n",
       " Mean   : 8.861   Mean   : 7.401   Mean   : 8.763   Mean   : 8.793  \n",
       " 3rd Qu.:10.000   3rd Qu.:10.000   3rd Qu.:10.000   3rd Qu.:10.000  \n",
       " Max.   :10.000   Max.   :10.000   Max.   :10.000   Max.   :10.000  \n",
       "      p5_8             p5_9            p5_10            p5_11       \n",
       " Min.   : 1.000   Min.   : 1.000   Min.   : 1.000   Min.   : 1.000  \n",
       " 1st Qu.: 8.000   1st Qu.: 8.000   1st Qu.: 8.000   1st Qu.: 8.000  \n",
       " Median : 9.000   Median : 9.000   Median : 9.000   Median : 9.000  \n",
       " Mean   : 8.704   Mean   : 8.837   Mean   : 8.866   Mean   : 8.863  \n",
       " 3rd Qu.:10.000   3rd Qu.:10.000   3rd Qu.:10.000   3rd Qu.:10.000  \n",
       " Max.   :10.000   Max.   :10.000   Max.   :10.000   Max.   :10.000  \n",
       "      p7_1             p7_2             p7_3             p7_4       \n",
       " Min.   : 1.000   Min.   : 1.000   Min.   : 1.000   Min.   : 1.000  \n",
       " 1st Qu.: 8.000   1st Qu.: 8.000   1st Qu.: 8.000   1st Qu.: 8.000  \n",
       " Median : 9.000   Median : 9.000   Median : 9.000   Median : 9.000  \n",
       " Mean   : 8.473   Mean   : 8.727   Mean   : 8.862   Mean   : 8.972  \n",
       " 3rd Qu.:10.000   3rd Qu.:10.000   3rd Qu.:10.000   3rd Qu.:10.000  \n",
       " Max.   :10.000   Max.   :10.000   Max.   :10.000   Max.   :10.000  \n",
       "      p7_5             p7_6             p7_7              p8        \n",
       " Min.   : 1.000   Min.   : 1.000   Min.   : 1.000   Min.   : 1.000  \n",
       " 1st Qu.: 8.000   1st Qu.: 8.000   1st Qu.: 8.000   1st Qu.: 8.000  \n",
       " Median : 9.000   Median : 9.000   Median : 9.000   Median : 9.000  \n",
       " Mean   : 8.678   Mean   : 8.682   Mean   : 9.027   Mean   : 8.706  \n",
       " 3rd Qu.:10.000   3rd Qu.:10.000   3rd Qu.:10.000   3rd Qu.:10.000  \n",
       " Max.   :10.000   Max.   :10.000   Max.   :10.000   Max.   :10.000  "
      ]
     },
     "metadata": {},
     "output_type": "display_data"
    },
    {
     "name": "stdout",
     "output_type": "stream",
     "text": [
      "tibble [4,231 × 20] (S3: tbl_df/tbl/data.frame)\n",
      " $ enc  : num [1:4231] 1 2 3 4 5 6 7 8 9 10 ...\n",
      "  ..- attr(*, \"label\")= chr \"Número de encuesta\"\n",
      "  ..- attr(*, \"format.spss\")= chr \"F8.0\"\n",
      "  ..- attr(*, \"display_width\")= int 4\n",
      " $ p5_1 : num [1:4231] 9 10 10 10 10 10 10 9 10 10 ...\n",
      "  ..- attr(*, \"label\")= chr \"SOLUCION DADA EN EL LOCAL\"\n",
      "  ..- attr(*, \"format.spss\")= chr \"F8.0\"\n",
      "  ..- attr(*, \"display_width\")= int 6\n",
      " $ p5_2 : num [1:4231] 8 10 10 10 10 10 9 9 10 10 ...\n",
      "  ..- attr(*, \"label\")= chr \"AGILIDAD MOSTRADA\"\n",
      "  ..- attr(*, \"format.spss\")= chr \"F8.0\"\n",
      "  ..- attr(*, \"display_width\")= int 6\n",
      " $ p5_3 : num [1:4231] 8 10 10 10 10 10 7 9 10 10 ...\n",
      "  ..- attr(*, \"label\")= chr \"INTERES MOSTRADO\"\n",
      "  ..- attr(*, \"format.spss\")= chr \"F8.0\"\n",
      "  ..- attr(*, \"display_width\")= int 6\n",
      " $ p5_4 : num [1:4231] 9 10 10 10 10 10 8 9 10 9 ...\n",
      "  ..- attr(*, \"label\")= chr \"AMABILIDAD Y TRATO\"\n",
      "  ..- attr(*, \"format.spss\")= chr \"F8.0\"\n",
      "  ..- attr(*, \"display_width\")= int 6\n",
      " $ p5_5 : num [1:4231] 9 10 10 5 10 6 5 9 8 7 ...\n",
      "  ..- attr(*, \"label\")= chr \"OFERTA DE PRODUCTOS Y SERVICIOS\"\n",
      "  ..- attr(*, \"format.spss\")= chr \"F8.0\"\n",
      "  ..- attr(*, \"display_width\")= int 6\n",
      " $ p5_6 : num [1:4231] 9 10 10 10 9 10 6 10 9 10 ...\n",
      "  ..- attr(*, \"label\")= chr \"NIVEL DE CONOCIMIENTOS DEL FUNCIONARIO / CAJERO\"\n",
      "  ..- attr(*, \"format.spss\")= chr \"F8.0\"\n",
      "  ..- attr(*, \"display_width\")= int 6\n",
      " $ p5_7 : num [1:4231] 8 10 10 10 10 10 6 10 8 10 ...\n",
      "  ..- attr(*, \"label\")= chr \"CLARIDAD DE LA INFORMACIÓN\"\n",
      "  ..- attr(*, \"format.spss\")= chr \"F8.0\"\n",
      "  ..- attr(*, \"display_width\")= int 6\n",
      " $ p5_8 : num [1:4231] 7 10 10 10 10 10 10 10 10 10 ...\n",
      "  ..- attr(*, \"label\")= chr \"TIEMPO DE ESPERA EN SER ATENDIDO\"\n",
      "  ..- attr(*, \"format.spss\")= chr \"F8.0\"\n",
      "  ..- attr(*, \"display_width\")= int 6\n",
      " $ p5_9 : num [1:4231] 8 10 10 10 10 10 10 10 10 10 ...\n",
      "  ..- attr(*, \"label\")= chr \"TIEMPO DE ATENCIÓN BRINDADA\"\n",
      "  ..- attr(*, \"format.spss\")= chr \"F8.0\"\n",
      "  ..- attr(*, \"display_width\")= int 6\n",
      " $ p5_10: num [1:4231] 7 10 10 10 9 10 10 10 9 10 ...\n",
      "  ..- attr(*, \"label\")= chr \"SIMPLEZA DURANTE EL PROCESO DE ATENCIÓN\"\n",
      "  ..- attr(*, \"format.spss\")= chr \"F8.0\"\n",
      "  ..- attr(*, \"display_width\")= int 6\n",
      " $ p5_11: num [1:4231] 7 10 10 10 9 10 10 10 9 10 ...\n",
      "  ..- attr(*, \"label\")= chr \"FLEXINILIDAD\"\n",
      "  ..- attr(*, \"format.spss\")= chr \"F8.0\"\n",
      "  ..- attr(*, \"display_width\")= int 6\n",
      " $ p7_1 : num [1:4231] 10 9 10 8 10 10 9 10 9 9 ...\n",
      "  ..- attr(*, \"label\")= chr \"PUBLICIDAD EN EL LOCAL\"\n",
      "  ..- attr(*, \"format.spss\")= chr \"F8.0\"\n",
      "  ..- attr(*, \"display_width\")= int 6\n",
      " $ p7_2 : num [1:4231] 10 10 10 10 10 10 9 10 9 9 ...\n",
      "  ..- attr(*, \"label\")= chr \"ORDEN DEL LOCAL\"\n",
      "  ..- attr(*, \"format.spss\")= chr \"F8.0\"\n",
      "  ..- attr(*, \"display_width\")= int 6\n",
      " $ p7_3 : num [1:4231] 10 10 10 10 10 10 9 10 9 9 ...\n",
      "  ..- attr(*, \"label\")= chr \"LIMPIEZA DEL LOCAL\"\n",
      "  ..- attr(*, \"format.spss\")= chr \"F8.0\"\n",
      "  ..- attr(*, \"display_width\")= int 6\n",
      " $ p7_4 : num [1:4231] 9 10 10 10 10 10 9 10 9 9 ...\n",
      "  ..- attr(*, \"label\")= chr \"PERSONAL DEBIDAMENTE ARREGLADO\"\n",
      "  ..- attr(*, \"format.spss\")= chr \"F8.0\"\n",
      "  ..- attr(*, \"display_width\")= int 6\n",
      " $ p7_5 : num [1:4231] 10 10 10 10 10 10 7 10 9 9 ...\n",
      "  ..- attr(*, \"label\")= chr \"INFRAESTRUCTURA / DISEÑO DEL LOCAL\"\n",
      "  ..- attr(*, \"format.spss\")= chr \"F8.0\"\n",
      "  ..- attr(*, \"display_width\")= int 6\n",
      " $ p7_6 : num [1:4231] 10 10 10 10 10 10 7 10 9 10 ...\n",
      "  ..- attr(*, \"label\")= chr \"COMODIDAD DE LA INSTALACIONES\"\n",
      "  ..- attr(*, \"format.spss\")= chr \"F8.0\"\n",
      "  ..- attr(*, \"display_width\")= int 6\n",
      " $ p7_7 : num [1:4231] 10 10 10 10 10 10 7 10 9 10 ...\n",
      "  ..- attr(*, \"label\")= chr \"PERSONAL DEBIDAMENTE IDENTIFICADO\"\n",
      "  ..- attr(*, \"format.spss\")= chr \"F8.0\"\n",
      "  ..- attr(*, \"display_width\")= int 6\n",
      " $ p8   : num [1:4231] 8 10 10 10 10 10 9 10 10 10 ...\n",
      "  ..- attr(*, \"label\")= chr \"SATISFACCIÓN POR LA ATENCIÓN\"\n",
      "  ..- attr(*, \"format.spss\")= chr \"F8.0\"\n",
      "  ..- attr(*, \"display_width\")= int 6\n",
      " - attr(*, \"label\")= chr \"FRED\"\n"
     ]
    }
   ],
   "source": [
    "# Instala el paquete haven si no lo tienes instalado\n",
    "install.packages(\"haven\")\n",
    "\n",
    "# Carga el paquete\n",
    "library(haven)\n",
    "\n",
    "# Cargar los datos desde el archivo .sav\n",
    "file_path <- \"C:/Users/james/OneDrive/Escritorio/AD/casoTrabajoIntegrador/data/CASO2.sav\"\n",
    "data <- read_sav(file_path)\n",
    "\n",
    "# Ver las primeras filas de los datos\n",
    "head(data)\n",
    "\n",
    "# Ver el resumen de las variables\n",
    "summary(data)\n",
    "\n",
    "# Ver la estructura del dataframe\n",
    "str(data)"
   ]
  },
  {
   "cell_type": "markdown",
   "metadata": {},
   "source": [
    "Descripción y Limpieza de Datos"
   ]
  },
  {
   "cell_type": "code",
   "execution_count": 2,
   "metadata": {
    "vscode": {
     "languageId": "r"
    }
   },
   "outputs": [
    {
     "data": {
      "text/html": [
       "<style>\n",
       ".dl-inline {width: auto; margin:0; padding: 0}\n",
       ".dl-inline>dt, .dl-inline>dd {float: none; width: auto; display: inline-block}\n",
       ".dl-inline>dt::after {content: \":\\0020\"; padding-right: .5ex}\n",
       ".dl-inline>dt:not(:first-of-type) {padding-left: .5ex}\n",
       "</style><dl class=dl-inline><dt>enc</dt><dd>0</dd><dt>p5_1</dt><dd>0</dd><dt>p5_2</dt><dd>0</dd><dt>p5_3</dt><dd>0</dd><dt>p5_4</dt><dd>0</dd><dt>p5_5</dt><dd>0</dd><dt>p5_6</dt><dd>0</dd><dt>p5_7</dt><dd>0</dd><dt>p5_8</dt><dd>0</dd><dt>p5_9</dt><dd>0</dd><dt>p5_10</dt><dd>0</dd><dt>p5_11</dt><dd>0</dd><dt>p7_1</dt><dd>0</dd><dt>p7_2</dt><dd>0</dd><dt>p7_3</dt><dd>0</dd><dt>p7_4</dt><dd>0</dd><dt>p7_5</dt><dd>0</dd><dt>p7_6</dt><dd>0</dd><dt>p7_7</dt><dd>0</dd><dt>p8</dt><dd>0</dd></dl>\n"
      ],
      "text/latex": [
       "\\begin{description*}\n",
       "\\item[enc] 0\n",
       "\\item[p5\\textbackslash{}\\_1] 0\n",
       "\\item[p5\\textbackslash{}\\_2] 0\n",
       "\\item[p5\\textbackslash{}\\_3] 0\n",
       "\\item[p5\\textbackslash{}\\_4] 0\n",
       "\\item[p5\\textbackslash{}\\_5] 0\n",
       "\\item[p5\\textbackslash{}\\_6] 0\n",
       "\\item[p5\\textbackslash{}\\_7] 0\n",
       "\\item[p5\\textbackslash{}\\_8] 0\n",
       "\\item[p5\\textbackslash{}\\_9] 0\n",
       "\\item[p5\\textbackslash{}\\_10] 0\n",
       "\\item[p5\\textbackslash{}\\_11] 0\n",
       "\\item[p7\\textbackslash{}\\_1] 0\n",
       "\\item[p7\\textbackslash{}\\_2] 0\n",
       "\\item[p7\\textbackslash{}\\_3] 0\n",
       "\\item[p7\\textbackslash{}\\_4] 0\n",
       "\\item[p7\\textbackslash{}\\_5] 0\n",
       "\\item[p7\\textbackslash{}\\_6] 0\n",
       "\\item[p7\\textbackslash{}\\_7] 0\n",
       "\\item[p8] 0\n",
       "\\end{description*}\n"
      ],
      "text/markdown": [
       "enc\n",
       ":   0p5_1\n",
       ":   0p5_2\n",
       ":   0p5_3\n",
       ":   0p5_4\n",
       ":   0p5_5\n",
       ":   0p5_6\n",
       ":   0p5_7\n",
       ":   0p5_8\n",
       ":   0p5_9\n",
       ":   0p5_10\n",
       ":   0p5_11\n",
       ":   0p7_1\n",
       ":   0p7_2\n",
       ":   0p7_3\n",
       ":   0p7_4\n",
       ":   0p7_5\n",
       ":   0p7_6\n",
       ":   0p7_7\n",
       ":   0p8\n",
       ":   0\n",
       "\n"
      ],
      "text/plain": [
       "  enc  p5_1  p5_2  p5_3  p5_4  p5_5  p5_6  p5_7  p5_8  p5_9 p5_10 p5_11  p7_1 \n",
       "    0     0     0     0     0     0     0     0     0     0     0     0     0 \n",
       " p7_2  p7_3  p7_4  p7_5  p7_6  p7_7    p8 \n",
       "    0     0     0     0     0     0     0 "
      ]
     },
     "metadata": {},
     "output_type": "display_data"
    },
    {
     "data": {
      "text/html": [
       "<style>\n",
       ".dl-inline {width: auto; margin:0; padding: 0}\n",
       ".dl-inline>dt, .dl-inline>dd {float: none; width: auto; display: inline-block}\n",
       ".dl-inline>dt::after {content: \":\\0020\"; padding-right: .5ex}\n",
       ".dl-inline>dt:not(:first-of-type) {padding-left: .5ex}\n",
       "</style><dl class=dl-inline><dt>enc</dt><dd>0</dd><dt>p5_1</dt><dd>0</dd><dt>p5_2</dt><dd>0</dd><dt>p5_3</dt><dd>0</dd><dt>p5_4</dt><dd>0</dd><dt>p5_5</dt><dd>0</dd><dt>p5_6</dt><dd>0</dd><dt>p5_7</dt><dd>0</dd><dt>p5_8</dt><dd>0</dd><dt>p5_9</dt><dd>0</dd><dt>p5_10</dt><dd>0</dd><dt>p5_11</dt><dd>0</dd><dt>p7_1</dt><dd>0</dd><dt>p7_2</dt><dd>0</dd><dt>p7_3</dt><dd>0</dd><dt>p7_4</dt><dd>0</dd><dt>p7_5</dt><dd>0</dd><dt>p7_6</dt><dd>0</dd><dt>p7_7</dt><dd>0</dd><dt>p8</dt><dd>0</dd></dl>\n"
      ],
      "text/latex": [
       "\\begin{description*}\n",
       "\\item[enc] 0\n",
       "\\item[p5\\textbackslash{}\\_1] 0\n",
       "\\item[p5\\textbackslash{}\\_2] 0\n",
       "\\item[p5\\textbackslash{}\\_3] 0\n",
       "\\item[p5\\textbackslash{}\\_4] 0\n",
       "\\item[p5\\textbackslash{}\\_5] 0\n",
       "\\item[p5\\textbackslash{}\\_6] 0\n",
       "\\item[p5\\textbackslash{}\\_7] 0\n",
       "\\item[p5\\textbackslash{}\\_8] 0\n",
       "\\item[p5\\textbackslash{}\\_9] 0\n",
       "\\item[p5\\textbackslash{}\\_10] 0\n",
       "\\item[p5\\textbackslash{}\\_11] 0\n",
       "\\item[p7\\textbackslash{}\\_1] 0\n",
       "\\item[p7\\textbackslash{}\\_2] 0\n",
       "\\item[p7\\textbackslash{}\\_3] 0\n",
       "\\item[p7\\textbackslash{}\\_4] 0\n",
       "\\item[p7\\textbackslash{}\\_5] 0\n",
       "\\item[p7\\textbackslash{}\\_6] 0\n",
       "\\item[p7\\textbackslash{}\\_7] 0\n",
       "\\item[p8] 0\n",
       "\\end{description*}\n"
      ],
      "text/markdown": [
       "enc\n",
       ":   0p5_1\n",
       ":   0p5_2\n",
       ":   0p5_3\n",
       ":   0p5_4\n",
       ":   0p5_5\n",
       ":   0p5_6\n",
       ":   0p5_7\n",
       ":   0p5_8\n",
       ":   0p5_9\n",
       ":   0p5_10\n",
       ":   0p5_11\n",
       ":   0p7_1\n",
       ":   0p7_2\n",
       ":   0p7_3\n",
       ":   0p7_4\n",
       ":   0p7_5\n",
       ":   0p7_6\n",
       ":   0p7_7\n",
       ":   0p8\n",
       ":   0\n",
       "\n"
      ],
      "text/plain": [
       "  enc  p5_1  p5_2  p5_3  p5_4  p5_5  p5_6  p5_7  p5_8  p5_9 p5_10 p5_11  p7_1 \n",
       "    0     0     0     0     0     0     0     0     0     0     0     0     0 \n",
       " p7_2  p7_3  p7_4  p7_5  p7_6  p7_7    p8 \n",
       "    0     0     0     0     0     0     0 "
      ]
     },
     "metadata": {},
     "output_type": "display_data"
    }
   ],
   "source": [
    "# Revisar si hay valores faltantes\n",
    "colSums(is.na(data))\n",
    "\n",
    "# Eliminar o imputar valores faltantes (en este caso se elimina)\n",
    "data_clean <- na.omit(data)\n",
    "\n",
    "# Verificar que los valores faltantes se eliminaron\n",
    "colSums(is.na(data_clean))"
   ]
  },
  {
   "cell_type": "markdown",
   "metadata": {},
   "source": [
    "Transformación de los Datos (Ingeniería de Variables)"
   ]
  },
  {
   "cell_type": "code",
   "execution_count": 3,
   "metadata": {
    "vscode": {
     "languageId": "r"
    }
   },
   "outputs": [
    {
     "name": "stderr",
     "output_type": "stream",
     "text": [
      "Warning message:\n",
      "\"Unknown or uninitialised column: `variable_categorica`.\"\n"
     ]
    },
    {
     "ename": "ERROR",
     "evalue": "\u001b[1m\u001b[33mError\u001b[39m in `$<-`:\u001b[22m\n\u001b[1m\u001b[22m\u001b[33m!\u001b[39m Assigned data `as.factor(data_clean$variable_categorica)` must be\n  compatible with existing data.\n\u001b[31m✖\u001b[39m Existing data has 4231 rows.\n\u001b[31m✖\u001b[39m Assigned data has 0 rows.\n\u001b[36mℹ\u001b[39m Only vectors of size 1 are recycled.\n\u001b[1mCaused by error in `vectbl_recycle_rhs_rows()`:\u001b[22m\n\u001b[33m!\u001b[39m Can't recycle input of size 0 to size 4231.\n",
     "output_type": "error",
     "traceback": [
      "\u001b[1m\u001b[33mError\u001b[39m in `$<-`:\u001b[22m\n\u001b[1m\u001b[22m\u001b[33m!\u001b[39m Assigned data `as.factor(data_clean$variable_categorica)` must be\n  compatible with existing data.\n\u001b[31m✖\u001b[39m Existing data has 4231 rows.\n\u001b[31m✖\u001b[39m Assigned data has 0 rows.\n\u001b[36mℹ\u001b[39m Only vectors of size 1 are recycled.\n\u001b[1mCaused by error in `vectbl_recycle_rhs_rows()`:\u001b[22m\n\u001b[33m!\u001b[39m Can't recycle input of size 0 to size 4231.\nTraceback:\n",
      "1. `$<-.tbl_df`(`*tmp*`, variable_categorica, value = structure(integer(0), levels = character(0), class = \"factor\"))",
      "2. tbl_subassign(x, i = NULL, as_string(name), list(value), i_arg = NULL, \n .     j_arg = name, value_arg = substitute(value))",
      "3. vectbl_recycle_rhs_rows(value, fast_nrow(xo), i_arg = NULL, value_arg, \n .     call)",
      "4. withCallingHandlers(for (j in seq_along(value)) {\n .     if (!is.null(value[[j]])) {\n .         value[[j]] <- vec_recycle(value[[j]], nrow)\n .     }\n . }, vctrs_error_recycle_incompatible_size = function(cnd) {\n .     abort_assign_incompatible_size(nrow, value, j, i_arg, value_arg, \n .         cnd, call = call)\n . }, vctrs_error_scalar_type = function(cnd) {\n .     abort_assign_vector(value, j, value_arg, cnd, call = call)\n . })",
      "5. vec_recycle(value[[j]], nrow)",
      "6. stop_recycle_incompatible_size(x_size = 0L, size = 4231L, x_arg = \"\", \n .     call = <environment>)",
      "7. stop_vctrs(x_size = x_size, y_size = size, x_arg = x_arg, class = c(\"vctrs_error_incompatible_size\", \n .     \"vctrs_error_recycle_incompatible_size\"), call = call)",
      "8. abort(message, class = c(class, \"vctrs_error\"), ..., call = call)",
      "9. signal_abort(cnd, .file)",
      "10. signalCondition(cnd)",
      "11. (function (cnd) \n  . {\n  .     abort_assign_incompatible_size(nrow, value, j, i_arg, value_arg, \n  .         cnd, call = call)\n  . })(structure(list(message = \"\", trace = structure(list(call = list(\n  .     IRkernel::main(), kernel$run(), handle_shell(), executor$execute(msg), \n  .     tryCatch(evaluate(request$content$code, envir = .GlobalEnv, \n  .         output_handler = oh, stop_on_error = 1L), interrupt = function(cond) {\n  .         log_debug(\"Interrupt during execution\")\n  .         interrupted <<- TRUE\n  .     }, error = .self$handle_error), tryCatchList(expr, classes, \n  .         parentenv, handlers), tryCatchOne(tryCatchList(expr, \n  .         names[-nh], parentenv, handlers[-nh]), names[nh], parentenv, \n  .         handlers[[nh]]), doTryCatch(return(expr), name, parentenv, \n  .         handler), tryCatchList(expr, names[-nh], parentenv, handlers[-nh]), \n  .     tryCatchOne(expr, names, parentenv, handlers[[1L]]), doTryCatch(return(expr), \n  .         name, parentenv, handler), evaluate(request$content$code, \n  .         envir = .GlobalEnv, output_handler = oh, stop_on_error = 1L), \n  .     withRestarts(with_handlers({\n  .         for (expr in tle$exprs) {\n  .             ev <- withVisible(eval(expr, envir))\n  .             watcher$capture_plot_and_output()\n  .             watcher$print_value(ev$value, ev$visible, envir)\n  .         }\n  .         TRUE\n  .     }, handlers), eval_continue = function() TRUE, eval_stop = function() FALSE, \n  .         eval_error = function(cnd) signalCondition(cnd)), withRestartList(expr, \n  .         restarts), withOneRestart(withRestartList(expr, restarts[-nr]), \n  .         restarts[[nr]]), doWithOneRestart(return(expr), restart), \n  .     withRestartList(expr, restarts[-nr]), withOneRestart(withRestartList(expr, \n  .         restarts[-nr]), restarts[[nr]]), doWithOneRestart(return(expr), \n  .         restart), withRestartList(expr, restarts[-nr]), withOneRestart(expr, \n  .         restarts[[1L]]), doWithOneRestart(return(expr), restart), \n  .     with_handlers({\n  .         for (expr in tle$exprs) {\n  .             ev <- withVisible(eval(expr, envir))\n  .             watcher$capture_plot_and_output()\n  .             watcher$print_value(ev$value, ev$visible, envir)\n  .         }\n  .         TRUE\n  .     }, handlers), eval(call), eval(call), withCallingHandlers(code, \n  .         message = `<fn>`, warning = `<fn>`, error = `<fn>`), \n  .     withVisible(eval(expr, envir)), eval(expr, envir), eval(expr, \n  .         envir), `$<-`(`*tmp*`, variable_categorica, value = `<fct>`), \n  .     `$<-.tbl_df`(`*tmp*`, variable_categorica, value = `<fct>`), \n  .     tbl_subassign(x, i = NULL, as_string(name), list(value), \n  .         i_arg = NULL, j_arg = name, value_arg = substitute(value)), \n  .     vectbl_recycle_rhs_rows(value, fast_nrow(xo), i_arg = NULL, \n  .         value_arg, call), withCallingHandlers(for (j in seq_along(value)) {\n  .         if (!is.null(value[[j]])) {\n  .             value[[j]] <- vec_recycle(value[[j]], nrow)\n  .         }\n  .     }, vctrs_error_recycle_incompatible_size = function(cnd) {\n  .         abort_assign_incompatible_size(nrow, value, j, i_arg, \n  .             value_arg, cnd, call = call)\n  .     }, vctrs_error_scalar_type = function(cnd) {\n  .         abort_assign_vector(value, j, value_arg, cnd, call = call)\n  .     }), vec_recycle(value[[j]], nrow), stop_recycle_incompatible_size(x_size = 0L, \n  .         size = 4231L, x_arg = \"\", call = `<env>`), stop_vctrs(x_size = x_size, \n  .         y_size = size, x_arg = x_arg, class = c(\"vctrs_error_incompatible_size\", \n  .             \"vctrs_error_recycle_incompatible_size\"), call = call), \n  .     abort(message, class = c(class, \"vctrs_error\"), ..., call = call)), \n  .     parent = c(0L, 1L, 2L, 3L, 4L, 5L, 6L, 7L, 6L, 9L, 10L, 4L, \n  .     12L, 13L, 14L, 15L, 14L, 17L, 18L, 17L, 20L, 21L, 12L, 23L, \n  .     24L, 23L, 12L, 12L, 28L, 0L, 0L, 31L, 32L, 33L, 33L, 0L, \n  .     36L, 37L), visible = c(TRUE, TRUE, TRUE, TRUE, TRUE, TRUE, \n  .     TRUE, TRUE, TRUE, TRUE, TRUE, TRUE, TRUE, TRUE, TRUE, TRUE, \n  .     TRUE, TRUE, TRUE, TRUE, TRUE, TRUE, TRUE, TRUE, TRUE, TRUE, \n  .     TRUE, TRUE, TRUE, TRUE, TRUE, TRUE, TRUE, FALSE, FALSE, FALSE, \n  .     FALSE, FALSE), namespace = c(\"IRkernel\", NA, \"IRkernel\", \n  .     NA, \"base\", \"base\", \"base\", \"base\", \"base\", \"base\", \"base\", \n  .     \"evaluate\", \"base\", \"base\", \"base\", \"base\", \"base\", \"base\", \n  .     \"base\", \"base\", \"base\", \"base\", \"evaluate\", \"base\", \"base\", \n  .     \"base\", \"base\", \"base\", \"base\", \"base\", \"tibble\", \"tibble\", \n  .     \"tibble\", \"base\", \"vctrs\", \"vctrs\", \"vctrs\", \"rlang\"), scope = c(\"::\", \n  .     NA, \"local\", NA, \"::\", \"local\", \"local\", \"local\", \"local\", \n  .     \"local\", \"local\", \"::\", \"::\", \"local\", \"local\", \"local\", \n  .     \"local\", \"local\", \"local\", \"local\", \"local\", \"local\", \":::\", \n  .     \"::\", \"::\", \"::\", \"::\", \"::\", \"::\", \"::\", \":::\", \":::\", \":::\", \n  .     \"::\", \"::\", \":::\", \":::\", \"::\"), error_frame = c(FALSE, FALSE, \n  .     FALSE, FALSE, FALSE, FALSE, FALSE, FALSE, FALSE, FALSE, FALSE, \n  .     FALSE, FALSE, FALSE, FALSE, FALSE, FALSE, FALSE, FALSE, FALSE, \n  .     FALSE, FALSE, FALSE, FALSE, FALSE, FALSE, FALSE, FALSE, FALSE, \n  .     FALSE, FALSE, FALSE, TRUE, FALSE, FALSE, FALSE, FALSE, FALSE\n  .     )), row.names = c(NA, -38L), version = 2L, class = c(\"rlang_trace\", \n  . \"rlib_trace\", \"tbl\", \"data.frame\")), parent = NULL, x_size = 0L, \n  .     y_size = 4231L, x_arg = \"\", rlang = list(inherit = TRUE), \n  .     call = vectbl_recycle_rhs_rows(value, fast_nrow(xo), i_arg = NULL, \n  .         value_arg, call)), class = c(\"vctrs_error_incompatible_size\", \n  . \"vctrs_error_recycle_incompatible_size\", \"vctrs_error\", \"rlang_error\", \n  . \"error\", \"condition\")))",
      "12. abort_assign_incompatible_size(nrow, value, j, i_arg, value_arg, \n  .     cnd, call = call)",
      "13. tibble_abort(bullets(paste0(\"Assigned data \", tick(as_label(value_arg)), \n  .     \" must be compatible with \", target, \":\"), x = existing, \n  .     x = new, i = if (nrow != 1) \"Only vectors of size 1 are recycled\", \n  .     i = if (nrow == 1 && vec_size(value[[j]]) != 1) \"Row updates require a list value. Do you need `list()` or `as.list()`?\"), \n  .     expected = nrow, actual = vec_size(value[[j]]), j = j, parent = parent, \n  .     call = call)",
      "14. abort(x, class, ..., call = call, parent = parent, use_cli_format = TRUE)",
      "15. signal_abort(cnd, .file)",
      "16. signalCondition(cnd)"
     ]
    }
   ],
   "source": [
    "# Transformar variables categóricas en factores\n",
    "data_clean$variable_categorica <- as.factor(data_clean$variable_categorica)\n",
    "\n",
    "# Crear nuevas variables basadas en combinaciones o lógicas\n",
    "data_clean$nueva_variable <- with(data_clean, variable_1 * variable_2)"
   ]
  },
  {
   "cell_type": "markdown",
   "metadata": {},
   "source": [
    "Multicolinealidad (Correlaciones Altas):"
   ]
  },
  {
   "cell_type": "code",
   "execution_count": 4,
   "metadata": {
    "vscode": {
     "languageId": "r"
    }
   },
   "outputs": [
    {
     "name": "stderr",
     "output_type": "stream",
     "text": [
      "Installing package into 'C:/Users/james/AppData/Local/R/win-library/4.4'\n",
      "(as 'lib' is unspecified)\n",
      "\n"
     ]
    },
    {
     "name": "stdout",
     "output_type": "stream",
     "text": [
      "package 'car' successfully unpacked and MD5 sums checked\n",
      "\n",
      "The downloaded binary packages are in\n",
      "\tC:\\Users\\james\\AppData\\Local\\Temp\\RtmpqwkEI4\\downloaded_packages\n"
     ]
    },
    {
     "name": "stderr",
     "output_type": "stream",
     "text": [
      "Loading required package: carData\n",
      "\n"
     ]
    },
    {
     "name": "stdout",
     "output_type": "stream",
     "text": [
      "              enc       p5_1       p5_2       p5_3       p5_4        p5_5\n",
      "enc    1.00000000 -0.1521653 -0.1683528 -0.1544482 -0.1397062 -0.07105824\n",
      "p5_1  -0.15216530  1.0000000  0.7806614  0.7651543  0.7103203  0.36251595\n",
      "p5_2  -0.16835283  0.7806614  1.0000000  0.8092493  0.7663264  0.35344314\n",
      "p5_3  -0.15444815  0.7651543  0.8092493  1.0000000  0.8254344  0.37462552\n",
      "p5_4  -0.13970617  0.7103203  0.7663264  0.8254344  1.0000000  0.33926902\n",
      "p5_5  -0.07105824  0.3625160  0.3534431  0.3746255  0.3392690  1.00000000\n",
      "p5_6  -0.17297647  0.7058814  0.7252381  0.7545825  0.7602500  0.37095325\n",
      "p5_7  -0.16775332  0.7229168  0.7454910  0.7806340  0.7614675  0.37428714\n",
      "p5_8  -0.13063457  0.5866150  0.6650164  0.6045895  0.5970610  0.33952871\n",
      "p5_9  -0.15249277  0.6750406  0.7392395  0.7073811  0.6914728  0.31834126\n",
      "p5_10 -0.16734956  0.7083917  0.7341533  0.7511388  0.7356280  0.35089673\n",
      "p5_11 -0.16263298  0.7108222  0.7385689  0.7557727  0.7295734  0.35057992\n",
      "p7_1  -0.10222165  0.4227331  0.4145660  0.4333213  0.4178539  0.27436315\n",
      "p7_2  -0.16295003  0.4512998  0.4536847  0.4663930  0.4566523  0.24617099\n",
      "p7_3  -0.18200207  0.4382541  0.4482866  0.4672946  0.4738898  0.20024937\n",
      "p7_4  -0.21633049  0.4885708  0.5070497  0.5218431  0.5397963  0.26898946\n",
      "p7_5  -0.20762740  0.4133818  0.4209292  0.4371160  0.4306545  0.26560125\n",
      "p7_6  -0.17121973  0.4030381  0.4254031  0.4205301  0.4233612  0.25054441\n",
      "p7_7  -0.20962968  0.4579113  0.4704244  0.5030770  0.5151182  0.24445560\n",
      "p8    -0.17750187  0.6517282  0.6739746  0.6628340  0.6468304  0.31130401\n",
      "            p5_6       p5_7       p5_8       p5_9      p5_10      p5_11\n",
      "enc   -0.1729765 -0.1677533 -0.1306346 -0.1524928 -0.1673496 -0.1626330\n",
      "p5_1   0.7058814  0.7229168  0.5866150  0.6750406  0.7083917  0.7108222\n",
      "p5_2   0.7252381  0.7454910  0.6650164  0.7392395  0.7341533  0.7385689\n",
      "p5_3   0.7545825  0.7806340  0.6045895  0.7073811  0.7511388  0.7557727\n",
      "p5_4   0.7602500  0.7614675  0.5970610  0.6914728  0.7356280  0.7295734\n",
      "p5_5   0.3709532  0.3742871  0.3395287  0.3183413  0.3508967  0.3505799\n",
      "p5_6   1.0000000  0.8216345  0.6092899  0.6849354  0.7570620  0.7432179\n",
      "p5_7   0.8216345  1.0000000  0.6231468  0.7187823  0.7740135  0.7579063\n",
      "p5_8   0.6092899  0.6231468  1.0000000  0.7556896  0.6951927  0.6597013\n",
      "p5_9   0.6849354  0.7187823  0.7556896  1.0000000  0.8200751  0.7837503\n",
      "p5_10  0.7570620  0.7740135  0.6951927  0.8200751  1.0000000  0.8828252\n",
      "p5_11  0.7432179  0.7579063  0.6597013  0.7837503  0.8828252  1.0000000\n",
      "p7_1   0.4346554  0.4450608  0.3531620  0.3962980  0.4311957  0.4279035\n",
      "p7_2   0.4550376  0.4620403  0.3903618  0.4375772  0.4573445  0.4588319\n",
      "p7_3   0.4630464  0.4749994  0.3823081  0.4487208  0.4776608  0.4675394\n",
      "p7_4   0.5154061  0.5293657  0.4261201  0.4981493  0.5347046  0.5191686\n",
      "p7_5   0.4472702  0.4446435  0.3595098  0.4099002  0.4444012  0.4407300\n",
      "p7_6   0.4379043  0.4289903  0.3705135  0.4227864  0.4373250  0.4285095\n",
      "p7_7   0.4969279  0.5025213  0.4025964  0.4769481  0.5108087  0.4921646\n",
      "p8     0.6265217  0.6610363  0.5711939  0.6575809  0.6609352  0.6464380\n",
      "            p7_1       p7_2       p7_3       p7_4       p7_5       p7_6\n",
      "enc   -0.1022216 -0.1629500 -0.1820021 -0.2163305 -0.2076274 -0.1712197\n",
      "p5_1   0.4227331  0.4512998  0.4382541  0.4885708  0.4133818  0.4030381\n",
      "p5_2   0.4145660  0.4536847  0.4482866  0.5070497  0.4209292  0.4254031\n",
      "p5_3   0.4333213  0.4663930  0.4672946  0.5218431  0.4371160  0.4205301\n",
      "p5_4   0.4178539  0.4566523  0.4738898  0.5397963  0.4306545  0.4233612\n",
      "p5_5   0.2743631  0.2461710  0.2002494  0.2689895  0.2656012  0.2505444\n",
      "p5_6   0.4346554  0.4550376  0.4630464  0.5154061  0.4472702  0.4379043\n",
      "p5_7   0.4450608  0.4620403  0.4749994  0.5293657  0.4446435  0.4289903\n",
      "p5_8   0.3531620  0.3903618  0.3823081  0.4261201  0.3595098  0.3705135\n",
      "p5_9   0.3962980  0.4375772  0.4487208  0.4981493  0.4099002  0.4227864\n",
      "p5_10  0.4311957  0.4573445  0.4776608  0.5347046  0.4444012  0.4373250\n",
      "p5_11  0.4279035  0.4588319  0.4675394  0.5191686  0.4407300  0.4285095\n",
      "p7_1   1.0000000  0.6766221  0.6276215  0.5857539  0.6032864  0.5870140\n",
      "p7_2   0.6766221  1.0000000  0.7911655  0.6980950  0.6908057  0.6928421\n",
      "p7_3   0.6276215  0.7911655  1.0000000  0.7619048  0.7103055  0.6755911\n",
      "p7_4   0.5857539  0.6980950  0.7619048  1.0000000  0.6772719  0.6497535\n",
      "p7_5   0.6032864  0.6908057  0.7103055  0.6772719  1.0000000  0.8164826\n",
      "p7_6   0.5870140  0.6928421  0.6755911  0.6497535  0.8164826  1.0000000\n",
      "p7_7   0.5557221  0.6362686  0.6858208  0.7759623  0.6495210  0.6439498\n",
      "p8     0.4435287  0.4944507  0.4782867  0.5297076  0.4628284  0.4700953\n",
      "            p7_7         p8\n",
      "enc   -0.2096297 -0.1775019\n",
      "p5_1   0.4579113  0.6517282\n",
      "p5_2   0.4704244  0.6739746\n",
      "p5_3   0.5030770  0.6628340\n",
      "p5_4   0.5151182  0.6468304\n",
      "p5_5   0.2444556  0.3113040\n",
      "p5_6   0.4969279  0.6265217\n",
      "p5_7   0.5025213  0.6610363\n",
      "p5_8   0.4025964  0.5711939\n",
      "p5_9   0.4769481  0.6575809\n",
      "p5_10  0.5108087  0.6609352\n",
      "p5_11  0.4921646  0.6464380\n",
      "p7_1   0.5557221  0.4435287\n",
      "p7_2   0.6362686  0.4944507\n",
      "p7_3   0.6858208  0.4782867\n",
      "p7_4   0.7759623  0.5297076\n",
      "p7_5   0.6495210  0.4628284\n",
      "p7_6   0.6439498  0.4700953\n",
      "p7_7   1.0000000  0.5012322\n",
      "p8     0.5012322  1.0000000\n"
     ]
    },
    {
     "ename": "ERROR",
     "evalue": "Error in eval(predvars, data, env): object 'variable_respuesta' not found\n",
     "output_type": "error",
     "traceback": [
      "Error in eval(predvars, data, env): object 'variable_respuesta' not found\nTraceback:\n",
      "1. eval(mf, parent.frame())",
      "2. eval(mf, parent.frame())",
      "3. stats::model.frame(formula = variable_respuesta ~ ., data = data_clean, \n .     drop.unused.levels = TRUE)",
      "4. model.frame.default(formula = variable_respuesta ~ ., data = data_clean, \n .     drop.unused.levels = TRUE)",
      "5. eval(predvars, data, env)",
      "6. eval(predvars, data, env)",
      "7. .handleSimpleError(function (cnd) \n . {\n .     watcher$capture_plot_and_output()\n .     cnd <- sanitize_call(cnd)\n .     watcher$push(cnd)\n .     switch(on_error, continue = invokeRestart(\"eval_continue\"), \n .         stop = invokeRestart(\"eval_stop\"), error = invokeRestart(\"eval_error\", \n .             cnd))\n . }, \"object 'variable_respuesta' not found\", base::quote(eval(predvars, \n .     data, env)))"
     ]
    }
   ],
   "source": [
    "# Cargar la librería para análisis de multicolinealidad\n",
    "install.packages(\"car\")\n",
    "library(car)\n",
    "\n",
    "# Revisar la correlación entre variables numéricas\n",
    "cor_matrix <- cor(data_clean[, sapply(data_clean, is.numeric)])\n",
    "\n",
    "# Visualizar la matriz de correlación\n",
    "print(cor_matrix)\n",
    "\n",
    "# Verificar el factor de inflación de la varianza (VIF)\n",
    "vif_model <- lm(variable_respuesta ~ ., data = data_clean)\n",
    "vif(vif_model)"
   ]
  },
  {
   "cell_type": "markdown",
   "metadata": {},
   "source": [
    "Modelos de Regresión y Clusterización:"
   ]
  },
  {
   "cell_type": "code",
   "execution_count": 5,
   "metadata": {
    "vscode": {
     "languageId": "r"
    }
   },
   "outputs": [
    {
     "ename": "ERROR",
     "evalue": "Error in eval(predvars, data, env): object 'variable_respuesta' not found\n",
     "output_type": "error",
     "traceback": [
      "Error in eval(predvars, data, env): object 'variable_respuesta' not found\nTraceback:\n",
      "1. eval(mf, parent.frame())",
      "2. eval(mf, parent.frame())",
      "3. stats::model.frame(formula = variable_respuesta ~ ., data = data_clean, \n .     drop.unused.levels = TRUE)",
      "4. model.frame.default(formula = variable_respuesta ~ ., data = data_clean, \n .     drop.unused.levels = TRUE)",
      "5. eval(predvars, data, env)",
      "6. eval(predvars, data, env)",
      "7. .handleSimpleError(function (cnd) \n . {\n .     watcher$capture_plot_and_output()\n .     cnd <- sanitize_call(cnd)\n .     watcher$push(cnd)\n .     switch(on_error, continue = invokeRestart(\"eval_continue\"), \n .         stop = invokeRestart(\"eval_stop\"), error = invokeRestart(\"eval_error\", \n .             cnd))\n . }, \"object 'variable_respuesta' not found\", base::quote(eval(predvars, \n .     data, env)))"
     ]
    }
   ],
   "source": [
    "# Regresión lineal\n",
    "modelo_regresion <- lm(variable_respuesta ~ ., data = data_clean)\n",
    "summary(modelo_regresion)"
   ]
  },
  {
   "cell_type": "markdown",
   "metadata": {},
   "source": [
    "Clusterización (k-means):"
   ]
  },
  {
   "cell_type": "code",
   "execution_count": 6,
   "metadata": {
    "vscode": {
     "languageId": "r"
    }
   },
   "outputs": [
    {
     "data": {
      "text/plain": [
       "\n",
       "   1    2    3 \n",
       "1501  242 2488 "
      ]
     },
     "metadata": {},
     "output_type": "display_data"
    }
   ],
   "source": [
    "# Clusterización usando k-means\n",
    "set.seed(123)\n",
    "clusters <- kmeans(scale(data_clean[, sapply(data_clean, is.numeric)]), centers = 3)\n",
    "data_clean$cluster <- clusters$cluster\n",
    "\n",
    "# Ver los resultados de la clusterización\n",
    "table(data_clean$cluster)"
   ]
  },
  {
   "cell_type": "markdown",
   "metadata": {},
   "source": [
    "Evaluación del Modelo:"
   ]
  },
  {
   "cell_type": "code",
   "execution_count": 7,
   "metadata": {
    "vscode": {
     "languageId": "r"
    }
   },
   "outputs": [
    {
     "ename": "ERROR",
     "evalue": "Error: object 'modelo_regresion' not found\n",
     "output_type": "error",
     "traceback": [
      "Error: object 'modelo_regresion' not found\nTraceback:\n",
      "1. .handleSimpleError(function (cnd) \n . {\n .     watcher$capture_plot_and_output()\n .     cnd <- sanitize_call(cnd)\n .     watcher$push(cnd)\n .     switch(on_error, continue = invokeRestart(\"eval_continue\"), \n .         stop = invokeRestart(\"eval_stop\"), error = invokeRestart(\"eval_error\", \n .             cnd))\n . }, \"object 'modelo_regresion' not found\", base::quote(eval(expr, \n .     envir)))"
     ]
    }
   ],
   "source": [
    "# Métricas para la regresión\n",
    "predicciones <- predict(modelo_regresion, newdata = data_clean)\n",
    "rmse <- sqrt(mean((data_clean$variable_respuesta - predicciones)^2))\n",
    "r2 <- summary(modelo_regresion)$r.squared\n",
    "\n",
    "rmse\n",
    "r2"
   ]
  },
  {
   "cell_type": "markdown",
   "metadata": {},
   "source": [
    "Para la clusterización, puedes evaluar con la inercia dentro de los grupos:"
   ]
  },
  {
   "cell_type": "code",
   "execution_count": null,
   "metadata": {
    "vscode": {
     "languageId": "r"
    }
   },
   "outputs": [],
   "source": [
    "# Ver la suma de las distancias al centroide (inercia)\n",
    "clusters$tot.withinss"
   ]
  }
 ],
 "metadata": {
  "kernelspec": {
   "display_name": "R",
   "language": "R",
   "name": "ir"
  },
  "language_info": {
   "codemirror_mode": "r",
   "file_extension": ".r",
   "mimetype": "text/x-r-source",
   "name": "R",
   "pygments_lexer": "r",
   "version": "4.4.1"
  }
 },
 "nbformat": 4,
 "nbformat_minor": 2
}
